{
 "cells": [
  {
   "cell_type": "markdown",
   "metadata": {},
   "source": [
    "# Run Once"
   ]
  },
  {
   "cell_type": "code",
   "execution_count": 1,
   "metadata": {},
   "outputs": [],
   "source": [
    "# init conversion dictionary\n",
    "# RUN ONLY ONCE\n",
    "perform2imp = {}"
   ]
  },
  {
   "cell_type": "code",
   "execution_count": 2,
   "metadata": {},
   "outputs": [],
   "source": [
    "import pandas as pd\n",
    "import json"
   ]
  },
  {
   "cell_type": "code",
   "execution_count": 55,
   "metadata": {},
   "outputs": [],
   "source": [
    "##### hardcoded strings\n",
    "f_out = '../../data/figure_panel_b/modelID_performance2importance_ALLCOHORTS.json'\n",
    "####\n",
    "\n",
    "f_imp = '../../src/classifier_metrics_20210514/feature_importance.tsv'\n",
    "df_imp_raw = pd.read_csv(f_imp, sep='\\t')"
   ]
  },
  {
   "cell_type": "code",
   "execution_count": null,
   "metadata": {},
   "outputs": [],
   "source": [
    "team_options= ['aklimate', 'CF', 'jadbio', 'subSCOPE', 'skgrid']\n",
    "team_imp_options = ['aklimate', 'cloudforest', 'jadbio', 'subscope', 'skgrid']"
   ]
  },
  {
   "cell_type": "code",
   "execution_count": 4,
   "metadata": {},
   "outputs": [],
   "source": [
    "# # First 13 \n",
    "# # cohorts = list('ACC', 'BLCA', 'BRCA', 'CESC', 'COADREAD', 'ESCC', \n",
    "    #'GEA', 'HNSC', 'KIRCKICH', 'KIRP', 'LGGGBM', 'LIHCCHOL', 'LUAD')\n",
    "# only running these because chris will clean up the last half of cancers"
   ]
  },
  {
   "cell_type": "markdown",
   "metadata": {},
   "source": [
    "# Main Analysis"
   ]
  },
  {
   "cell_type": "code",
   "execution_count": 1039,
   "metadata": {},
   "outputs": [],
   "source": [
    "######\n",
    "cancer = 'LUAD'\n",
    "i = 4 \n",
    "######"
   ]
  },
  {
   "cell_type": "code",
   "execution_count": 1040,
   "metadata": {},
   "outputs": [
    {
     "name": "stdout",
     "output_type": "stream",
     "text": [
      "### Using teams:\n",
      "skgrid\n",
      "skgrid\n"
     ]
    }
   ],
   "source": [
    "# hardcoded strings - auto updated\n",
    "f_top = '../../data/figure_panel_a/best_models_{}.tsv'.format(cancer)\n",
    "\n",
    "\n",
    "# f_imp = '../../src/classifier_metrics_20210514/feature_importance.tsv'\n",
    "# df_imp_raw = pd.read_csv(f_imp, sep='\\t')\n",
    "\n",
    "selected_team = team_options[i]\n",
    "selected_team_imp = team_imp_options[i]\n",
    "print('### Using teams:\\n{}\\n{}'.format(selected_team, selected_team_imp))"
   ]
  },
  {
   "cell_type": "code",
   "execution_count": 1041,
   "metadata": {},
   "outputs": [],
   "source": [
    "def skgrid_get_more_model_info(cancer):\n",
    "    '''skgrid in normal pipeline doesnt have enough info to pinpoint one ft selection\n",
    "    method and classification so need to pull classification info\n",
    "    \n",
    "    Reason: skgrid needs info on classifier to match best model\n",
    "    '''\n",
    "    # Open file\n",
    "    f_pred = '../../src/classifier_metrics_20210514/top_performing_models_lte_100_features.tsv'\n",
    "    df_pred = pd.read_csv(f_pred, sep='\\t')\n",
    "    \n",
    "    # Get classifcation info\n",
    "    skgrid_s1 = df_pred[df_pred['feature_list_method']=='skgrid']\n",
    "    skgrid_s1 = skgrid_s1[skgrid_s1['cohort']==cancer].reset_index(drop=True)\n",
    "    if skgrid_s1.shape[0]==1:\n",
    "        selected_skgrid_model = skgrid_s1['model'][0]\n",
    "        return(\n",
    "            '## SKGRID ONLY. featureID and model info\\n{}\\n{}'.format(skgrid_s1['featureID'][0], selected_skgrid_model), \n",
    "            selected_skgrid_model\n",
    "        )\n",
    "    else:\n",
    "        return(\n",
    "            'MULTIPLE TIED PERFORMING MODELS (N={})'.format(skgrid_s1.shape[0]),\n",
    "            list(skgrid_s1['model'])\n",
    "        )"
   ]
  },
  {
   "cell_type": "code",
   "execution_count": 1042,
   "metadata": {},
   "outputs": [
    {
     "name": "stdout",
     "output_type": "stream",
     "text": [
      "MULTIPLE TIED PERFORMING MODELS (N=2)\n"
     ]
    }
   ],
   "source": [
    "# Run only if skgrid for more info to pinpoint model.\n",
    "    # Outputs variable and logging info\n",
    "if selected_team == 'skgrid':\n",
    "    info , selected_skgrid_model = skgrid_get_more_model_info(cancer)\n",
    "    print(info)"
   ]
  },
  {
   "cell_type": "code",
   "execution_count": 1043,
   "metadata": {
    "scrolled": true
   },
   "outputs": [
    {
     "name": "stdout",
     "output_type": "stream",
     "text": [
      "### Best models:\n",
      "\n",
      "jadbio_LUAD_GEXP_cumulative_feature_set25_LUAD\n",
      "skgrid_LUAD_fbedeBIC_perplatformALL_LUAD\n",
      "subSCOPE-GEXP_2021-04-21_bootstrapfeatures_LUAD_LUAD\n",
      "AKLIMATE_GEXP_ONLY_LUAD_reduced_model_50_feature_set_LUAD\n",
      "CF_LUAD_GEXP_Top_100_LUAD\n"
     ]
    }
   ],
   "source": [
    "### Find top model for a team\n",
    "# Read in top model\n",
    "df_top = pd.read_csv(f_top, sep='\\t', index_col=0)\n",
    "top_models = list(df_top.columns)\n",
    "# print logging info\n",
    "print('### Best models:\\n')\n",
    "for t in top_models:\n",
    "    print(t)\n"
   ]
  },
  {
   "cell_type": "code",
   "execution_count": null,
   "metadata": {},
   "outputs": [],
   "source": []
  },
  {
   "cell_type": "code",
   "execution_count": null,
   "metadata": {},
   "outputs": [],
   "source": []
  },
  {
   "cell_type": "code",
   "execution_count": 1044,
   "metadata": {},
   "outputs": [
    {
     "name": "stdout",
     "output_type": "stream",
     "text": [
      "## Selected model for team\n",
      "skgrid_LUAD_fbedeBIC_perplatformALL_LUAD\n",
      "skgrid\n"
     ]
    }
   ],
   "source": [
    "# Select first team\n",
    "\n",
    "####### MANUAL: select model\n",
    "selected_model = 'skgrid_LUAD_fbedeBIC_perplatformALL_LUAD'\n",
    "#######\n",
    "# for m in top_models:\n",
    "#     if selected_team in m:\n",
    "#         selected_model = m\n",
    "print('## Selected model for team\\n{}\\n{}'.format(selected_model, selected_team))"
   ]
  },
  {
   "cell_type": "code",
   "execution_count": 1045,
   "metadata": {},
   "outputs": [],
   "source": [
    "### Look up feature importance scores ###"
   ]
  },
  {
   "cell_type": "code",
   "execution_count": 1046,
   "metadata": {},
   "outputs": [
    {
     "name": "stdout",
     "output_type": "stream",
     "text": [
      "12428 models found\n"
     ]
    },
    {
     "data": {
      "text/html": [
       "<div>\n",
       "<style scoped>\n",
       "    .dataframe tbody tr th:only-of-type {\n",
       "        vertical-align: middle;\n",
       "    }\n",
       "\n",
       "    .dataframe tbody tr th {\n",
       "        vertical-align: top;\n",
       "    }\n",
       "\n",
       "    .dataframe thead th {\n",
       "        text-align: right;\n",
       "    }\n",
       "</style>\n",
       "<table border=\"1\" class=\"dataframe\">\n",
       "  <thead>\n",
       "    <tr style=\"text-align: right;\">\n",
       "      <th></th>\n",
       "      <th>method</th>\n",
       "      <th>feature_importance_ID</th>\n",
       "      <th>json_object</th>\n",
       "    </tr>\n",
       "  </thead>\n",
       "  <tbody>\n",
       "    <tr>\n",
       "      <th>0</th>\n",
       "      <td>skgrid</td>\n",
       "      <td>SGDClassifier(alpha=0.01,loss=hinge,penalty=l2...</td>\n",
       "      <td>{\"feature_importance_ID\": \"SGDClassifier(alpha...</td>\n",
       "    </tr>\n",
       "    <tr>\n",
       "      <th>1</th>\n",
       "      <td>skgrid</td>\n",
       "      <td>SGDClassifier(alpha=0.01,loss=hinge,penalty=l1...</td>\n",
       "      <td>{\"feature_importance_ID\": \"SGDClassifier(alpha...</td>\n",
       "    </tr>\n",
       "    <tr>\n",
       "      <th>2</th>\n",
       "      <td>skgrid</td>\n",
       "      <td>SGDClassifier(alpha=0.01,loss=hinge,penalty=el...</td>\n",
       "      <td>{\"feature_importance_ID\": \"SGDClassifier(alpha...</td>\n",
       "    </tr>\n",
       "    <tr>\n",
       "      <th>3</th>\n",
       "      <td>skgrid</td>\n",
       "      <td>SGDClassifier(alpha=0.01,loss=log,penalty=l2)|...</td>\n",
       "      <td>{\"feature_importance_ID\": \"SGDClassifier(alpha...</td>\n",
       "    </tr>\n",
       "    <tr>\n",
       "      <th>4</th>\n",
       "      <td>skgrid</td>\n",
       "      <td>SGDClassifier(alpha=0.01,loss=log,penalty=l1)|...</td>\n",
       "      <td>{\"feature_importance_ID\": \"SGDClassifier(alpha...</td>\n",
       "    </tr>\n",
       "    <tr>\n",
       "      <th>...</th>\n",
       "      <td>...</td>\n",
       "      <td>...</td>\n",
       "      <td>...</td>\n",
       "    </tr>\n",
       "    <tr>\n",
       "      <th>12423</th>\n",
       "      <td>skgrid</td>\n",
       "      <td>KNeighborsClassifier(algorithm=ball_tree,leaf_...</td>\n",
       "      <td>{\"feature_importance_ID\": \"KNeighborsClassifie...</td>\n",
       "    </tr>\n",
       "    <tr>\n",
       "      <th>12424</th>\n",
       "      <td>skgrid</td>\n",
       "      <td>KNeighborsClassifier(algorithm=ball_tree,leaf_...</td>\n",
       "      <td>{\"feature_importance_ID\": \"KNeighborsClassifie...</td>\n",
       "    </tr>\n",
       "    <tr>\n",
       "      <th>12425</th>\n",
       "      <td>skgrid</td>\n",
       "      <td>KNeighborsClassifier(algorithm=ball_tree,leaf_...</td>\n",
       "      <td>{\"feature_importance_ID\": \"KNeighborsClassifie...</td>\n",
       "    </tr>\n",
       "    <tr>\n",
       "      <th>12426</th>\n",
       "      <td>skgrid</td>\n",
       "      <td>KNeighborsClassifier(algorithm=ball_tree,leaf_...</td>\n",
       "      <td>{\"feature_importance_ID\": \"KNeighborsClassifie...</td>\n",
       "    </tr>\n",
       "    <tr>\n",
       "      <th>12427</th>\n",
       "      <td>skgrid</td>\n",
       "      <td>SVC(C=1.5,kernel=sigmoid)|skgrid_LUAD_fbedeBIC...</td>\n",
       "      <td>{\"feature_importance_ID\": \"SVC(C=1.5,kernel=si...</td>\n",
       "    </tr>\n",
       "  </tbody>\n",
       "</table>\n",
       "<p>12428 rows × 3 columns</p>\n",
       "</div>"
      ],
      "text/plain": [
       "       method                              feature_importance_ID  \\\n",
       "0      skgrid  SGDClassifier(alpha=0.01,loss=hinge,penalty=l2...   \n",
       "1      skgrid  SGDClassifier(alpha=0.01,loss=hinge,penalty=l1...   \n",
       "2      skgrid  SGDClassifier(alpha=0.01,loss=hinge,penalty=el...   \n",
       "3      skgrid  SGDClassifier(alpha=0.01,loss=log,penalty=l2)|...   \n",
       "4      skgrid  SGDClassifier(alpha=0.01,loss=log,penalty=l1)|...   \n",
       "...       ...                                                ...   \n",
       "12423  skgrid  KNeighborsClassifier(algorithm=ball_tree,leaf_...   \n",
       "12424  skgrid  KNeighborsClassifier(algorithm=ball_tree,leaf_...   \n",
       "12425  skgrid  KNeighborsClassifier(algorithm=ball_tree,leaf_...   \n",
       "12426  skgrid  KNeighborsClassifier(algorithm=ball_tree,leaf_...   \n",
       "12427  skgrid  SVC(C=1.5,kernel=sigmoid)|skgrid_LUAD_fbedeBIC...   \n",
       "\n",
       "                                             json_object  \n",
       "0      {\"feature_importance_ID\": \"SGDClassifier(alpha...  \n",
       "1      {\"feature_importance_ID\": \"SGDClassifier(alpha...  \n",
       "2      {\"feature_importance_ID\": \"SGDClassifier(alpha...  \n",
       "3      {\"feature_importance_ID\": \"SGDClassifier(alpha...  \n",
       "4      {\"feature_importance_ID\": \"SGDClassifier(alpha...  \n",
       "...                                                  ...  \n",
       "12423  {\"feature_importance_ID\": \"KNeighborsClassifie...  \n",
       "12424  {\"feature_importance_ID\": \"KNeighborsClassifie...  \n",
       "12425  {\"feature_importance_ID\": \"KNeighborsClassifie...  \n",
       "12426  {\"feature_importance_ID\": \"KNeighborsClassifie...  \n",
       "12427  {\"feature_importance_ID\": \"SVC(C=1.5,kernel=si...  \n",
       "\n",
       "[12428 rows x 3 columns]"
      ]
     },
     "execution_count": 1046,
     "metadata": {},
     "output_type": "execute_result"
    }
   ],
   "source": [
    "# Subset for team and cancer\n",
    "df_imp = df_imp_raw[df_imp_raw['method']==selected_team_imp]\n",
    "keep = []\n",
    "for v in df_imp['feature_importance_ID']:\n",
    "    if cancer in v:\n",
    "        keep.append(v)\n",
    "df_imp= df_imp[df_imp['feature_importance_ID'].isin(keep)].reset_index(drop=True)\n",
    "print('{} models found'.format(df_imp.shape[0]))\n",
    "df_imp"
   ]
  },
  {
   "cell_type": "code",
   "execution_count": 1047,
   "metadata": {},
   "outputs": [
    {
     "data": {
      "text/plain": [
       "'skgrid_LUAD_fbedeBIC_perplatformALL_LUAD'"
      ]
     },
     "execution_count": 1047,
     "metadata": {},
     "output_type": "execute_result"
    }
   ],
   "source": [
    "selected_model"
   ]
  },
  {
   "cell_type": "code",
   "execution_count": 1048,
   "metadata": {},
   "outputs": [
    {
     "data": {
      "text/plain": [
       "'LUAD'"
      ]
     },
     "execution_count": 1048,
     "metadata": {},
     "output_type": "execute_result"
    }
   ],
   "source": [
    "cancer"
   ]
  },
  {
   "cell_type": "code",
   "execution_count": 1049,
   "metadata": {},
   "outputs": [
    {
     "name": "stdout",
     "output_type": "stream",
     "text": [
      "ERROR - MUST RUN CODE IN SEVERAL CELLS BELOW FOR SKGRID ONLY\n"
     ]
    }
   ],
   "source": [
    "if selected_team == 'skgrid':\n",
    "    print('ERROR - MUST RUN CODE IN SEVERAL CELLS BELOW FOR SKGRID ONLY')"
   ]
  },
  {
   "cell_type": "code",
   "execution_count": null,
   "metadata": {},
   "outputs": [],
   "source": []
  },
  {
   "cell_type": "code",
   "execution_count": 1050,
   "metadata": {},
   "outputs": [],
   "source": [
    "# # for sk grid only\n",
    "# # filter 1\n",
    "# keep =[]\n",
    "# for v in df_imp['feature_importance_ID']:\n",
    "#     if 'criterion=entropy,n_estimators=200' in v:\n",
    "#         keep.append(v)\n",
    "# s3 = df_imp[df_imp['feature_importance_ID'].isin(keep)].reset_index(drop=True)\n",
    "\n",
    "# # filter 2\n",
    "# keep =[]\n",
    "# for v in s3['feature_importance_ID']:\n",
    "#     if 'BRCA_fbedeBIC_perplatformALL' in v:\n",
    "#         keep.append(v)\n",
    "        \n",
    "# s3 = df_imp[df_imp['feature_importance_ID'].isin(keep)].reset_index(drop=True)      \n",
    "# for a in s3['feature_importance_ID']:\n",
    "#     print(a)\n",
    "    \n",
    "\n",
    "# # df_imp[df_imp['feature_importance_ID']=='RandomForestClassifier(criterion=entropy,n_estimators=200)|skgrid_BRCA_fbedeBIC_perplatformALL|2021-01-13|c']\n",
    "\n",
    "# # pulled index from above line\n",
    "# line3921 = json.loads(df_imp.iloc[3921,:]['json_object'])['feature_importance_scores']\n",
    "# line10135 = json.loads(df_imp.iloc[10135,:]['json_object'])['feature_importance_scores']\n",
    "# print('are these dups the same? {}'.format(line10135==line3921))\n"
   ]
  },
  {
   "cell_type": "code",
   "execution_count": null,
   "metadata": {},
   "outputs": [],
   "source": []
  },
  {
   "cell_type": "code",
   "execution_count": 1051,
   "metadata": {
    "scrolled": true
   },
   "outputs": [
    {
     "name": "stdout",
     "output_type": "stream",
     "text": [
      "MULTIPLE TIED PERFORMING MODELS (N=2)\n",
      "\n",
      "skgrid_LogisticRegression(C=100,max_iter=500,solver=liblinear)|skgrid_LUAD.tsv_skgrid_LUAD_fbedeBIC_perplatformALL|LUAD.tsv_skgrid_LUAD_fbedeBIC_perplatformALL|2021-01-13|c\n",
      "\n",
      "skgrid_LogisticRegression(C=10,max_iter=500,solver=liblinear)|skgrid_LUAD.tsv_skgrid_LUAD_fbedeBIC_perplatformALL|LUAD.tsv_skgrid_LUAD_fbedeBIC_perplatformALL|2021-01-13|c\n",
      "\n"
     ]
    }
   ],
   "source": [
    "for i in info.strip().split('\\n'):\n",
    "    print(i)\n",
    "    print()\n",
    "    if i.startswith('MULTIPLE TIED PERFORMING MODELS'):\n",
    "        for m in selected_skgrid_model:\n",
    "            print(m)\n",
    "            print()"
   ]
  },
  {
   "cell_type": "code",
   "execution_count": null,
   "metadata": {},
   "outputs": [],
   "source": []
  },
  {
   "cell_type": "code",
   "execution_count": 1057,
   "metadata": {},
   "outputs": [
    {
     "name": "stdout",
     "output_type": "stream",
     "text": [
      "LogisticRegression(C=10,max_iter=500,solver=liblinear)|skgrid_LUAD_fbedeBIC_perplatformALL|2021-01-13|c\n",
      "LogisticRegression(C=10,max_iter=500,solver=liblinear)|skgrid_LUAD_fbedeBIC_perplatformALL|2021-01-13|c\n"
     ]
    },
    {
     "data": {
      "text/html": [
       "<div>\n",
       "<style scoped>\n",
       "    .dataframe tbody tr th:only-of-type {\n",
       "        vertical-align: middle;\n",
       "    }\n",
       "\n",
       "    .dataframe tbody tr th {\n",
       "        vertical-align: top;\n",
       "    }\n",
       "\n",
       "    .dataframe thead th {\n",
       "        text-align: right;\n",
       "    }\n",
       "</style>\n",
       "<table border=\"1\" class=\"dataframe\">\n",
       "  <thead>\n",
       "    <tr style=\"text-align: right;\">\n",
       "      <th></th>\n",
       "      <th>method</th>\n",
       "      <th>feature_importance_ID</th>\n",
       "      <th>json_object</th>\n",
       "    </tr>\n",
       "  </thead>\n",
       "  <tbody>\n",
       "    <tr>\n",
       "      <th>498</th>\n",
       "      <td>skgrid</td>\n",
       "      <td>LogisticRegression(C=10,max_iter=500,solver=li...</td>\n",
       "      <td>{\"feature_importance_ID\": \"LogisticRegression(...</td>\n",
       "    </tr>\n",
       "    <tr>\n",
       "      <th>6712</th>\n",
       "      <td>skgrid</td>\n",
       "      <td>LogisticRegression(C=10,max_iter=500,solver=li...</td>\n",
       "      <td>{\"feature_importance_ID\": \"LogisticRegression(...</td>\n",
       "    </tr>\n",
       "  </tbody>\n",
       "</table>\n",
       "</div>"
      ],
      "text/plain": [
       "      method                              feature_importance_ID  \\\n",
       "498   skgrid  LogisticRegression(C=10,max_iter=500,solver=li...   \n",
       "6712  skgrid  LogisticRegression(C=10,max_iter=500,solver=li...   \n",
       "\n",
       "                                            json_object  \n",
       "498   {\"feature_importance_ID\": \"LogisticRegression(...  \n",
       "6712  {\"feature_importance_ID\": \"LogisticRegression(...  "
      ]
     },
     "execution_count": 1057,
     "metadata": {},
     "output_type": "execute_result"
    }
   ],
   "source": [
    "# for sk grid only\n",
    "# filter 1\n",
    "keep =[]\n",
    "for v in df_imp['feature_importance_ID']:\n",
    "    if 'LogisticRegression' in v: # HERE #\n",
    "        keep.append(v)\n",
    "s3 = df_imp[df_imp['feature_importance_ID'].isin(keep)].reset_index(drop=True)\n",
    "\n",
    "# filter 2\n",
    "keep = []\n",
    "for v in s3['feature_importance_ID']:\n",
    "    if 'C=10,max_iter=500,solver=liblinear' in v: # HERE #\n",
    "        keep.append(v)\n",
    "s3 = s3[s3['feature_importance_ID'].isin(keep)].reset_index(drop=True)\n",
    "\n",
    "# filter 3\n",
    "keep =[]\n",
    "for v in s3['feature_importance_ID']:\n",
    "    if 'fbedeBIC_perplatformALL' in v: # HERE #\n",
    "        keep.append(v)\n",
    "        \n",
    "s3 = df_imp[df_imp['feature_importance_ID'].isin(keep)].reset_index(drop=True) \n",
    "for a in s3['feature_importance_ID']:\n",
    "    print(a)\n",
    "    \n",
    "df_imp[df_imp['feature_importance_ID']==a]"
   ]
  },
  {
   "cell_type": "code",
   "execution_count": 862,
   "metadata": {},
   "outputs": [],
   "source": [
    "# # debug\n",
    "# for s in s3['feature_importance_ID']:\n",
    "#     print(s)"
   ]
  },
  {
   "cell_type": "code",
   "execution_count": 1058,
   "metadata": {},
   "outputs": [
    {
     "name": "stdout",
     "output_type": "stream",
     "text": [
      "are these dups the same? True\n"
     ]
    }
   ],
   "source": [
    "# CHECK if there are dups that the dups are the same\n",
    "# pulled index from above line\n",
    "lineA = json.loads(df_imp.iloc[498,:]['json_object'])['feature_importance_scores']\n",
    "lineB = json.loads(df_imp.iloc[6712,:]['json_object'])['feature_importance_scores']\n",
    "print('are these dups the same? {}'.format(lineA==lineB))\n"
   ]
  },
  {
   "cell_type": "code",
   "execution_count": null,
   "metadata": {},
   "outputs": [],
   "source": []
  },
  {
   "cell_type": "code",
   "execution_count": null,
   "metadata": {},
   "outputs": [],
   "source": []
  },
  {
   "cell_type": "code",
   "execution_count": null,
   "metadata": {},
   "outputs": [],
   "source": []
  },
  {
   "cell_type": "code",
   "execution_count": 1059,
   "metadata": {},
   "outputs": [
    {
     "name": "stdout",
     "output_type": "stream",
     "text": [
      "this is a manual process\n"
     ]
    }
   ],
   "source": [
    "# Create conversion dictionary. id_perf > id_imp\n",
    "####\n",
    "print('this is a manual process')\n",
    "index_key = 6712\n",
    "####\n",
    "\n",
    "# Normal\n",
    "# perform2imp[selected_model]= df_imp.iloc[index_key,:]['feature_importance_ID']\n",
    "\n",
    "# in case of ties\n",
    "perform2imp['TIED_2_' + selected_model]= df_imp.iloc[index_key,:]['feature_importance_ID']"
   ]
  },
  {
   "cell_type": "code",
   "execution_count": 1060,
   "metadata": {
    "scrolled": false
   },
   "outputs": [
    {
     "name": "stdout",
     "output_type": "stream",
     "text": [
      "CF_ACC_MIR_Top_100_ACC \n",
      "\tCF_ACC_MIR\n",
      "\n",
      "CF_BLCA_GEXP_Top_100_BLCA \n",
      "\tCF_BLCA_GEXP\n",
      "\n",
      "CF_BRCA_All_Top_50_BRCA \n",
      "\tCF_BRCA_All\n",
      "\n",
      "CF_CESC_GEXP_Top_100_CESC \n",
      "\tCF_CESC_GEXP\n",
      "\n",
      "CF_COADREAD_All_Top_100_COADREAD \n",
      "\tCF_COADREAD_All\n",
      "\n",
      "CF_ESCC_GEXP_Top_100_ESCC \n",
      "\tCF_ESCC_GEXP\n",
      "\n",
      "CF_GEA_All_Top_100_GEA \n",
      "\tCF_GEA_All\n",
      "\n",
      "CF_HNSC_All_Top_100_HNSC \n",
      "\tCF_HNSC_All\n",
      "\n",
      "CF_KIRCKICH_METH_Top_100_KIRCKICH \n",
      "\tCF_KIRCKICH_METH\n",
      "\n",
      "CF_KIRP_GEXP_Top_100_KIRP \n",
      "\tCF_KIRP_GEXP\n",
      "\n",
      "CF_LGGGBM_All_Top_100_LGGGBM \n",
      "\tCF_LGGGBM_All\n",
      "\n",
      "CF_LIHCCHOL_All_Top_100_LIHCCHOL \n",
      "\tCF_LIHCCHOL_All\n",
      "\n",
      "CF_LUAD_GEXP_Top_100_LUAD \n",
      "\tCF_LUAD_GEXP\n",
      "\n",
      "AKLIMATE_ACC_reduced_model_100_feature_set_ACC \n",
      "\tAKLIMATE_MULTI_DATA_ACC_20200423_FEATURE_IMPORTANCE\n",
      "\n",
      "AKLIMATE_BLCA_reduced_model_100_feature_set_BLCA \n",
      "\tAKLIMATE_MULTI_DATA_BLCA_20200423_FEATURE_IMPORTANCE\n",
      "\n",
      "AKLIMATE_GEXP_ONLY_BRCA_reduced_model_100_feature_set_BRCA \n",
      "\tAKLIMATE_GEXP_ONLY_BRCA_20200810_FEATURE_IMPORTANCE\n",
      "\n",
      "AKLIMATE_CESC_reduced_model_100_feature_set_CESC \n",
      "\tAKLIMATE_MULTI_DATA_CESC_20200423_FEATURE_IMPORTANCE\n",
      "\n",
      "AKLIMATE_COADREAD_reduced_model_100_feature_set_COADREAD \n",
      "\tAKLIMATE_MULTI_DATA_COADREAD_20200423_FEATURE_IMPORTANCE\n",
      "\n",
      "AKLIMATE_ESCC_reduced_model_50_feature_set_ESCC \n",
      "\tAKLIMATE_MULTI_DATA_ESCC_20200423_FEATURE_IMPORTANCE\n",
      "\n",
      "AKLIMATE_GEA_reduced_model_100_feature_set_GEA \n",
      "\tAKLIMATE_MULTI_DATA_GEA_20200423_FEATURE_IMPORTANCE\n",
      "\n",
      "AKLIMATE_GEXP_ONLY_HNSC_reduced_model_100_feature_set_HNSC \n",
      "\tAKLIMATE_GEXP_ONLY_HNSC_20200810_FEATURE_IMPORTANCE\n",
      "\n",
      "AKLIMATE_KIRCKICH_reduced_model_50_feature_set_KIRCKICH \n",
      "\tAKLIMATE_MULTI_DATA_KIRCKICH_20200423_FEATURE_IMPORTANCE\n",
      "\n",
      "AKLIMATE_KIRP_reduced_model_50_feature_set_KIRP \n",
      "\tAKLIMATE_MULTI_DATA_KIRP_20200423_FEATURE_IMPORTANCE\n",
      "\n",
      "AKLIMATE_METH_ONLY_LGGGBM_reduced_model_100_feature_set_LGGGBM \n",
      "\tAKLIMATE_METH_ONLY_LGGGBM_20200908_FEATURE_IMPORTANCE\n",
      "\n",
      "AKLIMATE_GEXP_ONLY_LIHCCHOL_reduced_model_100_feature_set_LIHCCHOL \n",
      "\tAKLIMATE_GEXP_ONLY_LIHCCHOL_20210305_FEATURE_IMPORTANCE\n",
      "\n",
      "AKLIMATE_GEXP_ONLY_LUAD_reduced_model_50_feature_set_LUAD \n",
      "\tAKLIMATE_GEXP_ONLY_LUAD_20200810_FEATURE_IMPORTANCE\n",
      "\n",
      "jadbio_ACC_GEXP_cumulative_feature_set18_ACC \n",
      "\tACC_GEXP_markers_outcome_association\n",
      "\n",
      "jadbio_BLCA_MULTIDATATYPE_cumulative_feature_set25_BLCA \n",
      "\tBLCA_MULTIDATATYPE_markers_outcome_association\n",
      "\n",
      "jadbio_BRCA_GEXP_cumulative_feature_set25_BRCA \n",
      "\tBRCA_GEXP_markers_outcome_association\n",
      "\n",
      "jadbio_CESC_GEXP_cumulative_feature_set21_CESC \n",
      "\tCESC_GEXP_markers_outcome_association\n",
      "\n",
      "jadbio_COADREAD_MULTIDATATYPE_cumulative_feature_set24_COADREAD \n",
      "\tCOADREAD_MULTIDATATYPE_markers_outcome_association\n",
      "\n",
      "jadbio_ESCC_GEXP_cumulative_feature_set21_ESCC \n",
      "\tESCC_GEXP_markers_outcome_association\n",
      "\n",
      "jadbio_GEA_MULTIDATATYPE_cumulative_feature_set25_GEA \n",
      "\tGEA_MULTIDATATYPE_markers_outcome_association\n",
      "\n",
      "jadbio_HNSC_GEXP_cumulative_feature_set19_HNSC \n",
      "\tHNSC_GEXP_markers_outcome_association\n",
      "\n",
      "jadbio_KIRCKICH_GEXP_cumulative_feature_set4_KIRCKICH \n",
      "\tKIRCKICH_GEXP_markers_outcome_association\n",
      "\n",
      "jadbio_KIRP_MULTIDATATYPE_cumulative_feature_set24_KIRP \n",
      "\tKIRP_MULTIDATATYPE_markers_outcome_association\n",
      "\n",
      "jadbio_LGGGBM_MULTIDATATYPE_cumulative_feature_set20_LGGGBM \n",
      "\tLGGGBM_MULTIDATATYPE_markers_outcome_association\n",
      "\n",
      "jadbio_LIHCCHOL_MULTIDATATYPE_cumulative_feature_set24_LIHCCHOL \n",
      "\tLIHCCHOL_MULTIDATATYPE_markers_outcome_association\n",
      "\n",
      "jadbio_LUAD_GEXP_cumulative_feature_set25_LUAD \n",
      "\tLUAD_GEXP_markers_outcome_association\n",
      "\n",
      "subSCOPE-GEXP_2021-04-21_bootstrapfeatures_ACC_ACC \n",
      "\tsubSCOPE-GEXP_2021-04-21_bootstrapfeatures-pvals:ACC\n",
      "\n",
      "subSCOPE-GEXP_2021-04-21_bootstrapfeatures_BLCA_BLCA \n",
      "\tsubSCOPE-GEXP_2021-04-21_bootstrapfeatures-pvals:BLCA\n",
      "\n",
      "subSCOPE-GEXP_2021-04-21_bootstrapfeatures_BRCA_BRCA \n",
      "\tsubSCOPE-GEXP_2021-04-21_bootstrapfeatures-pvals:BRCA\n",
      "\n",
      "subSCOPE-GEXP_2021-04-21_bootstrapfeatures_CESC_CESC \n",
      "\tsubSCOPE-GEXP_2021-04-21_bootstrapfeatures-pvals:CESC\n",
      "\n",
      "subSCOPE-METH_2021-04-21_bootstrapfeatures_COADREAD_COADREAD \n",
      "\tsubSCOPE-METH_2021-04-21_bootstrapfeatures-pvals:COADREAD\n",
      "\n",
      "subSCOPE-GEXP_2021-04-21_bootstrapfeatures_ESCC_ESCC \n",
      "\tsubSCOPE-GEXP_2021-04-21_bootstrapfeatures-pvals:ESCC\n",
      "\n",
      "subSCOPE-METH_2021-04-21_bootstrapfeatures_GEA_GEA \n",
      "\tsubSCOPE-METH_2021-04-21_bootstrapfeatures-pvals:GEA\n",
      "\n",
      "subSCOPE-GEXP_2021-04-21_bootstrapfeatures_HNSC_HNSC \n",
      "\tsubSCOPE-GEXP_2021-04-21_bootstrapfeatures-pvals:HNSC\n",
      "\n",
      "subSCOPE-ENSEMBLE_2021-04-21_bootstrapfeatures_KIRCKICH_KIRCKICH \n",
      "\tsubSCOPE-ENSEMBLE_2021-04-21_bootstrapfeatures-pvals:KIRCKICH\n",
      "\n",
      "subSCOPE-GEXP_2021-04-21_bootstrapfeatures_KIRP_KIRP \n",
      "\tsubSCOPE-GEXP_2021-04-21_bootstrapfeatures-pvals:KIRP\n",
      "\n",
      "subSCOPE-METH_2021-04-21_bootstrapfeatures_LGGGBM_LGGGBM \n",
      "\tsubSCOPE-METH_2021-04-21_bootstrapfeatures-pvals:LGGGBM\n",
      "\n",
      "subSCOPE-GEXP_2021-04-21_bootstrapfeatures_LIHCCHOL_LIHCCHOL \n",
      "\tsubSCOPE-GEXP_2021-04-21_bootstrapfeatures-pvals:LIHCCHOL\n",
      "\n",
      "subSCOPE-GEXP_2021-04-21_bootstrapfeatures_LUAD_LUAD \n",
      "\tsubSCOPE-GEXP_2021-04-21_bootstrapfeatures-pvals:LUAD\n",
      "\n",
      "skgrid_ACC_fbedeBIC_perplatformALL_ACC \n",
      "\tExtraTreesClassifier(criterion=entropy,n_estimators=96)|skgrid_ACC_fbedeBIC_perplatformALL|2021-01-13|c\n",
      "\n",
      "skgrid_BLCA_fbedeBIC_perplatformALL_BLCA \n",
      "\tLogisticRegression(C=0.01,max_iter=500,solver=newton-cg)|skgrid_BLCA_fbedeBIC_perplatformALL|2021-01-13|c\n",
      "\n",
      "skgrid_BRCA_fbedeBIC_perplatformALL_BRCA \n",
      "\tRandomForestClassifier(criterion=entropy,n_estimators=200)|skgrid_BRCA_fbedeBIC_perplatformALL|2021-01-13|c\n",
      "\n",
      "skgrid_CESC_fbedeBIC_perplatformALL_CESC \n",
      "\tRandomForestClassifier(criterion=gini,n_estimators=150)|skgrid_CESC_fbedeBIC_perplatformALL|2021-01-13|c\n",
      "\n",
      "skgrid_COADREAD_fbedeBIC_perplatformALL_COADREAD \n",
      "\tExtraTreesClassifier(criterion=gini,n_estimators=96)|skgrid_COADREAD_fbedeBIC_perplatformALL|2021-01-13|c\n",
      "\n",
      "TIED_1_skgrid_ESCC_fbedeBIC_perplatformALL_ESCC \n",
      "\tExtraTreesClassifier(criterion=entropy,n_estimators=128)|skgrid_ESCC_fbedeBIC_perplatformALL|2021-01-13|c\n",
      "\n",
      "TIED_2_skgrid_ESCC_fbedeBIC_perplatformALL_ESCC \n",
      "\tExtraTreesClassifier(criterion=gini,n_estimators=128)|skgrid_ESCC_fbedeBIC_perplatformALL|2021-01-13|c\n",
      "\n",
      "TIED_3_skgrid_ESCC_fbedeBIC_perplatformALL_ESCC \n",
      "\tRandomForestClassifier(criterion=entropy,n_estimators=200)|skgrid_ESCC_fbedeBIC_perplatformALL|2021-01-13|c\n",
      "\n",
      "skgrid_GEA_rfe15_perplatformALL_GEA \n",
      "\tExtraTreesClassifier(criterion=gini,n_estimators=64)|skgrid_GEA_rfe15_perplatformALL|2021-01-13|c\n",
      "\n",
      "skgrid_HNSC_fbedeBIC_perplatformALL_HNSC \n",
      "\tLogisticRegression(C=0.01,max_iter=500,solver=newton-cg)|skgrid_HNSC_fbedeBIC_perplatformALL|2021-01-13|c\n",
      "\n",
      "skgrid_KIRCKICH_fbedeBIC_perplatformALL_KIRCKICH \n",
      "\tSGDClassifier(alpha=0.0001,loss=squared_hinge,penalty=l1)|skgrid_KIRCKICH_fbedeBIC_perplatformALL|2021-01-13|c\n",
      "\n",
      "skgrid_KIRP_fbedeBIC_perplatformALL_KIRP \n",
      "\tExtraTreesClassifier(criterion=entropy,n_estimators=128)|skgrid_KIRP_fbedeBIC_perplatformALL|2021-01-13|c\n",
      "\n",
      "skgrid_LGGGBM_rfe15_perplatformALL_LGGGBM \n",
      "\tRandomForestClassifier(criterion=gini,n_estimators=100)|skgrid_LGGGBM_rfe15_perplatformALL|2021-01-13|c\n",
      "\n",
      "TIED_1_skgrid_LIHCCHOL_fbedeBIC_perplatformALL_LIHCCHOL \n",
      "\tRandomForestClassifier(criterion=gini,n_estimators=100)|skgrid_LIHCCHOL_fbedeBIC_perplatformALL|2021-01-13|c\n",
      "\n",
      "TIED_2_skgrid_LIHCCHOL_fbedeBIC_perplatformALL_LIHCCHOL \n",
      "\tRandomForestClassifier(criterion=gini,n_estimators=150)|skgrid_LIHCCHOL_fbedeBIC_perplatformALL|2021-01-13|c\n",
      "\n",
      "TIED_1_skgrid_LUAD_fbedeBIC_perplatformALL_LUAD \n",
      "\tLogisticRegression(C=100,max_iter=500,solver=liblinear)|skgrid_LUAD_fbedeBIC_perplatformALL|2021-01-13|c\n",
      "\n",
      "TIED_2_skgrid_LUAD_fbedeBIC_perplatformALL_LUAD \n",
      "\tLogisticRegression(C=10,max_iter=500,solver=liblinear)|skgrid_LUAD_fbedeBIC_perplatformALL|2021-01-13|c\n",
      "\n"
     ]
    }
   ],
   "source": [
    "for k,v in perform2imp.items():\n",
    "    print('{} \\n\\t{}'.format(k,v))\n",
    "    print()"
   ]
  },
  {
   "cell_type": "code",
   "execution_count": 1061,
   "metadata": {},
   "outputs": [],
   "source": [
    "# Output conversion keys\n",
    "with open(f_out, 'w') as out:\n",
    "    out.write(json.dumps(perform2imp))"
   ]
  },
  {
   "cell_type": "code",
   "execution_count": null,
   "metadata": {},
   "outputs": [],
   "source": []
  },
  {
   "cell_type": "code",
   "execution_count": null,
   "metadata": {},
   "outputs": [],
   "source": []
  }
 ],
 "metadata": {
  "kernelspec": {
   "display_name": "Python 3",
   "language": "python",
   "name": "python3"
  },
  "language_info": {
   "codemirror_mode": {
    "name": "ipython",
    "version": 3
   },
   "file_extension": ".py",
   "mimetype": "text/x-python",
   "name": "python",
   "nbconvert_exporter": "python",
   "pygments_lexer": "ipython3",
   "version": "3.7.1"
  }
 },
 "nbformat": 4,
 "nbformat_minor": 2
}
