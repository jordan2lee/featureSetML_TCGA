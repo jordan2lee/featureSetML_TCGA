{
 "cells": [
  {
   "cell_type": "code",
   "execution_count": null,
   "metadata": {},
   "outputs": [],
   "source": [
    "import pandas as pd"
   ]
  },
  {
   "cell_type": "code",
   "execution_count": null,
   "metadata": {},
   "outputs": [],
   "source": [
    "df = pd.read_csv('../data/data_for_upset.tsv',sep='\\t')\n",
    "\n",
    "# Clean up so only have cols of the 6 groups\n",
    "df = df[[\n",
    "    'PRAD:CF|All_Top 100', \n",
    "    'nn_jg_2020-03-20_top1kfreq:PRAD',\n",
    "    'AKLIMATE_PRAD_reduced_model_1500_feature_set', \n",
    "    'gnosis:PRAD:9', \n",
    "    'fbed_combined',\n",
    "    'rfe_combined'\n",
    "]]\n",
    "df"
   ]
  },
  {
   "cell_type": "code",
   "execution_count": null,
   "metadata": {},
   "outputs": [],
   "source": [
    "df.columns"
   ]
  },
  {
   "cell_type": "markdown",
   "metadata": {},
   "source": [
    "# How many overlapping features within a group?\n",
    "\n",
    "ex. are there overlapping features within Gnosis selected features alone?"
   ]
  },
  {
   "cell_type": "code",
   "execution_count": null,
   "metadata": {},
   "outputs": [],
   "source": [
    "import plotly.graph_objects as go\n",
    "\n",
    "def coords(gene_dict, subset_size):\n",
    "    x = []\n",
    "    y = []\n",
    "    for pair in gene_dict[:subset_size]:\n",
    "        x.append(pair[0])\n",
    "        y.append(pair[1])\n",
    "    return x, y\n"
   ]
  },
  {
   "cell_type": "code",
   "execution_count": null,
   "metadata": {
    "scrolled": true
   },
   "outputs": [],
   "source": [
    "# what does NA mean in N:METH:cg05688651:NA:NA:Island ??\n",
    "cols=df.columns\n",
    "for i in range(0, len(cols)):\n",
    "    gene_dict ={}\n",
    "    title = cols[i]\n",
    "    for ft in df[cols[i]].dropna():\n",
    "        gene = ft.split(':')[3]\n",
    "        if gene not in gene_dict:\n",
    "            gene_dict[gene]=1\n",
    "        else:\n",
    "            gene_dict[gene]+=1\n",
    "    gene_dict = sorted(gene_dict.items(), key=lambda item: item[1],reverse=True)\n",
    "\n",
    "    # Plot\n",
    "    x, y = coords(gene_dict, 10)\n",
    "    layout = go.Layout(title = \"Within Group: {}\".format(title), yaxis = dict(title='Frequency'), xaxis = dict(title='Most abundant features', tickangle=45) )\n",
    "    fig = go.Figure([go.Bar(x=x, y=y)], layout)\n",
    "    fig.show()"
   ]
  },
  {
   "cell_type": "code",
   "execution_count": null,
   "metadata": {
    "scrolled": true
   },
   "outputs": [],
   "source": [
    "# quick tangent on looking at the NA features ( NA mean in N:METH:cg05688651:NA:NA:Island ?? )\n",
    "gene_dict = {}\n",
    "cols=df.columns\n",
    "for i in range(0, len(cols)):\n",
    "    title = cols[i]\n",
    "    for ft in df[cols[i]].dropna():\n",
    "        gene = ft.split(':')[3]\n",
    "        if gene == 'NA':\n",
    "            if gene not in gene_dict:\n",
    "                gene_dict[ft]=[title]\n",
    "            else:\n",
    "                gene_dict[ft].append(title)\n",
    "sorted_gene_dict = sorted(gene_dict.items(), key=lambda item: item[1],reverse=True)\n",
    "for a in gene_dict.keys():\n",
    "    print(a)"
   ]
  },
  {
   "cell_type": "code",
   "execution_count": null,
   "metadata": {},
   "outputs": [],
   "source": [
    "df"
   ]
  },
  {
   "cell_type": "markdown",
   "metadata": {},
   "source": [
    "# How many overlapping features within and across groups?\n",
    "\n",
    "ex. are there overlapping features when pool all 6 groups together?"
   ]
  },
  {
   "cell_type": "code",
   "execution_count": null,
   "metadata": {},
   "outputs": [],
   "source": [
    "cols=df.columns\n",
    "gene_dict ={}\n",
    "\n",
    "for i in range(0, len(cols)):\n",
    "    for ft in df[cols[i]].dropna():\n",
    "        gene = ft.split(':')[3]\n",
    "        if gene not in gene_dict:\n",
    "            gene_dict[gene]=1\n",
    "        else:\n",
    "            gene_dict[gene]+=1\n",
    "gene_dict = sorted(gene_dict.items(), key=lambda item: item[1],reverse=True)"
   ]
  },
  {
   "cell_type": "code",
   "execution_count": null,
   "metadata": {},
   "outputs": [],
   "source": [
    "# Plot - all but messy because lots of NA gene symbols\n",
    "x, y = coords(gene_dict, 50)\n",
    "layout = go.Layout(title = \"Feature selection methods pick the same genes (regardless of gene variant type)\", yaxis = dict(title='Frequency'), xaxis = dict(title='Most abundant features', tickangle=45) )\n",
    "fig = go.Figure(\n",
    "    [go.Bar(\n",
    "        x=x, \n",
    "        y=y,\n",
    "        text=y,\n",
    "        textposition='outside'\n",
    "    )], \n",
    "    layout\n",
    ")\n",
    "fig.show()"
   ]
  },
  {
   "cell_type": "markdown",
   "metadata": {},
   "source": [
    "# What are these features?\n",
    "\n",
    "for a selected gene symbol bin, what is the composition of features?"
   ]
  },
  {
   "cell_type": "code",
   "execution_count": null,
   "metadata": {},
   "outputs": [],
   "source": [
    "import plotly.graph_objects as go\n"
   ]
  },
  {
   "cell_type": "code",
   "execution_count": null,
   "metadata": {},
   "outputs": [],
   "source": [
    "####\n",
    "selected_gene = 'HSPB1'\n",
    "####"
   ]
  },
  {
   "cell_type": "code",
   "execution_count": null,
   "metadata": {},
   "outputs": [],
   "source": [
    "# Reformat data\n",
    "cols=df.columns\n",
    "gene_dict ={}\n",
    "\n",
    "for i in range(0, len(cols)):\n",
    "    title = cols[i]\n",
    "    for ft in df[cols[i]].dropna():\n",
    "        gene = ft.split(':')[3]\n",
    "        if gene == selected_gene:\n",
    "            if ft not in gene_dict:\n",
    "                gene_dict[ft]=[title]\n",
    "            else:\n",
    "                gene_dict[ft].append(title)"
   ]
  },
  {
   "cell_type": "code",
   "execution_count": null,
   "metadata": {},
   "outputs": [],
   "source": [
    "# 1. Which platforms contributed? - pie chart\n",
    "results_dict = {}\n",
    "for ft, groups in gene_dict.items():\n",
    "    data_type = ft.split(':')[1]\n",
    "    if data_type not in results_dict:\n",
    "        results_dict[data_type]=len(groups)\n",
    "    else:\n",
    "        results_dict[data_type]+=len(groups)\n",
    "\n",
    "\n",
    "labels = []\n",
    "values = []\n",
    "for k, v in results_dict.items():\n",
    "    labels.append(k)\n",
    "    values.append(v)\n",
    "fig = go.Figure(data=[go.Pie(labels=labels, values=values,textinfo='label+percent')])\n",
    "fig.update(layout_showlegend=False)\n",
    "fig.show()\n",
    "\n",
    "\n",
    "\n",
    "# 2. Which groups contributed?\n",
    "results_dict = {}\n",
    "for ft, groups in gene_dict.items():\n",
    "    for g in groups:\n",
    "        if g not in results_dict:\n",
    "            results_dict[g]=1\n",
    "        else:\n",
    "            results_dict[g]+=1\n",
    "\n",
    "            \n",
    "labels = []\n",
    "values = []\n",
    "for k, v in results_dict.items():\n",
    "    labels.append(k)\n",
    "    values.append(v)\n",
    "fig = go.Figure(data=[go.Pie(labels=labels, values=values,textinfo='label+percent')])\n",
    "fig.update(layout_showlegend=False)\n",
    "fig.show()\n",
    "\n",
    "\n",
    "\n",
    "# 3. How often does a specific gene variant occur?\n",
    "x = []\n",
    "y = []\n",
    "for ft, groups in gene_dict.items():\n",
    "    x.append(ft)\n",
    "    y.append(len(groups))\n",
    "    \n",
    "layout = go.Layout(\n",
    "    yaxis = dict(title='Frequency'), \n",
    "    xaxis = dict(\n",
    "        tickangle=45,\n",
    "        categoryorder='array',\n",
    "        categoryarray=[x for _, x in sorted(zip(y, x), reverse=True)]\n",
    "    ) \n",
    ")\n",
    "\n",
    "fig = go.Figure(\n",
    "    [go.Bar(\n",
    "        x=x, \n",
    "        y=y,\n",
    "        text=y,\n",
    "        textposition='inside'\n",
    "    )], \n",
    "    layout\n",
    ")\n",
    "fig.show()"
   ]
  },
  {
   "cell_type": "code",
   "execution_count": null,
   "metadata": {},
   "outputs": [],
   "source": [
    "gene_dict.keys()"
   ]
  },
  {
   "cell_type": "markdown",
   "metadata": {},
   "source": [
    "# print this out for upset plot"
   ]
  },
  {
   "cell_type": "code",
   "execution_count": null,
   "metadata": {},
   "outputs": [],
   "source": [
    "original_df = df\n",
    "original_df"
   ]
  },
  {
   "cell_type": "code",
   "execution_count": null,
   "metadata": {},
   "outputs": [],
   "source": [
    "# reread in file to double check things have not changed\n",
    "df = pd.read_csv('../data/data_for_upset.tsv',sep='\\t')\n",
    "\n",
    "# Clean up so only have cols of the 6 groups\n",
    "df = df[[\n",
    "    'PRAD:CF|All_Top 100', \n",
    "    'nn_jg_2020-03-20_top1kfreq:PRAD',\n",
    "    'AKLIMATE_PRAD_reduced_model_1500_feature_set', \n",
    "    'gnosis:PRAD:9', \n",
    "    'fbed_combined',\n",
    "    'rfe_combined'\n",
    "]]"
   ]
  },
  {
   "cell_type": "code",
   "execution_count": null,
   "metadata": {},
   "outputs": [],
   "source": [
    "# another quick tangent: create output df for upset plot\n",
    "def get_output(input_df):\n",
    "    output_df = df # prep for later\n",
    "    cols = input_df.columns\n",
    "    \n",
    "\n",
    "    for i in range(0, len(cols)):\n",
    "        new_col = []\n",
    "        header = cols[i]\n",
    "        for ft in input_df[header]:\n",
    "            if type(ft) == float and str(ft) == 'nan':\n",
    "                new_col.append(ft)\n",
    "            else:\n",
    "                gene = ft.split(':')[3]\n",
    "                if gene == 'NA':\n",
    "                    gene = 'NA-feature'\n",
    "                new_col.append(gene)\n",
    "        if i == 0:\n",
    "            col1 = new_col\n",
    "            col1_header = header\n",
    "        elif i == 1:\n",
    "            cleaned_df = pd.DataFrame(list(zip(col1, new_col)),columns=[col1_header, header])\n",
    "        else:\n",
    "            cleaned_df[header]= new_col\n",
    "    return cleaned_df\n",
    "\n"
   ]
  },
  {
   "cell_type": "code",
   "execution_count": null,
   "metadata": {},
   "outputs": [],
   "source": [
    "cleaned_df = df\n",
    "cleaned_df = get_output(cleaned_df)\n",
    "cleaned_df"
   ]
  },
  {
   "cell_type": "code",
   "execution_count": null,
   "metadata": {},
   "outputs": [],
   "source": [
    "cleaned_df.to_csv('../data/GENE_only_data_for_upset.tsv',sep='\\t',index=False)"
   ]
  },
  {
   "cell_type": "code",
   "execution_count": null,
   "metadata": {},
   "outputs": [],
   "source": []
  }
 ],
 "metadata": {
  "kernelspec": {
   "display_name": "Python 3",
   "language": "python",
   "name": "python3"
  },
  "language_info": {
   "codemirror_mode": {
    "name": "ipython",
    "version": 3
   },
   "file_extension": ".py",
   "mimetype": "text/x-python",
   "name": "python",
   "nbconvert_exporter": "python",
   "pygments_lexer": "ipython3",
   "version": "3.7.1"
  }
 },
 "nbformat": 4,
 "nbformat_minor": 2
}
