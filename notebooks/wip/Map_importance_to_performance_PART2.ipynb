{
 "cells": [
  {
   "cell_type": "code",
   "execution_count": 1,
   "metadata": {},
   "outputs": [],
   "source": [
    "######\n",
    "f_imp = '../../src/classifier_metrics_20210514/feature_importance.tsv'\n",
    "f_convert = '../../data/figure_panel_b/modelID_performance2importance.json'\n",
    "######\n",
    "\n",
    "import pandas as pd\n",
    "import json\n",
    "\n",
    "# Read in Converter\n",
    "with open(f_convert, 'r') as fh:\n",
    "    dict1 = json.load(fh)\n",
    "    \n",
    "# Read in importance matrix\n",
    "df = pd.read_csv(f_imp, sep ='\\t')"
   ]
  },
  {
   "cell_type": "code",
   "execution_count": 2,
   "metadata": {},
   "outputs": [],
   "source": [
    "# Pull out all models\n",
    "main_list =[]\n",
    "alt_list = []\n",
    "for k,v in dict1.items():\n",
    "    main_list.append(k)\n",
    "    alt_list.append(v)\n",
    "    \n",
    "for i in range(0, len(main_list)):\n",
    "    main_model_name = main_list[i]\n",
    "\n",
    "    alt_name = alt_list[i]\n",
    "    dict_importance = df[df['feature_importance_ID']==alt_name].reset_index(drop=True)['json_object']\n",
    "#     if dict_importance.shape[0] != 1:\n",
    "#         print('Error, more than one\\n{}'.format(dict_importance))\n",
    "    dict_importance = dict_importance[0]\n",
    "    dict_importance = json.loads(dict_importance)\n",
    "\n",
    "    # Populate df and save\n",
    "    features = []\n",
    "    importance = []\n",
    "    try:\n",
    "        for k,v in dict_importance['feature_importance_scores'].items():\n",
    "            features.append(k)\n",
    "            importance.append(v)\n",
    "        assert len(features)==len(importance)\n",
    "    except:\n",
    "        for k,v in dict_importance['feature_importance_score'].items():\n",
    "            features.append(k)\n",
    "            importance.append(v)\n",
    "        assert len(features)==len(importance)\n",
    "    out = pd.DataFrame(list(zip(features, importance)), columns = ['features', 'importance'])\n",
    "    out.to_csv('../../data/top_model_importances/TOP_{}.tsv'.format(main_model_name), sep='\\t', index=False)\n"
   ]
  },
  {
   "cell_type": "markdown",
   "metadata": {},
   "source": [
    "# debugging the script above"
   ]
  },
  {
   "cell_type": "code",
   "execution_count": 3,
   "metadata": {},
   "outputs": [],
   "source": [
    "######\n",
    "f_imp = '../../src/classifier_metrics_20210514/feature_importance.tsv'\n",
    "f_convert = '../../data/figure_panel_b/modelID_performance2importance.json'\n",
    "######\n",
    "\n",
    "import pandas as pd\n",
    "import json\n",
    "\n",
    "# Read in Converter\n",
    "with open(f_convert, 'r') as fh:\n",
    "    dict1 = json.load(fh)\n",
    "    \n",
    "# Read in importance matrix\n",
    "df = pd.read_csv(f_imp, sep ='\\t')\n"
   ]
  },
  {
   "cell_type": "code",
   "execution_count": 4,
   "metadata": {},
   "outputs": [
    {
     "data": {
      "text/plain": [
       "{'AKLIMATE_GEXP_ONLY_BRCA_reduced_model_100_feature_set_BRCA': 'AKLIMATE_GEXP_ONLY_BRCA_20200810_FEATURE_IMPORTANCE',\n",
       " 'AKLIMATE_METH_ONLY_LGGGBM_reduced_model_100_feature_set_LGGGBM': 'AKLIMATE_METH_ONLY_LGGGBM_20200908_FEATURE_IMPORTANCE',\n",
       " 'AKLIMATE_COADREAD_reduced_model_100_feature_set_COADREAD': 'AKLIMATE_MULTI_DATA_COADREAD_20200423_FEATURE_IMPORTANCE',\n",
       " 'AKLIMATE_SKCM_reduced_model_20_feature_set_SKCM': 'AKLIMATE_MULTI_DATA_SKCM_20200423_FEATURE_IMPORTANCE',\n",
       " 'CF_BRCA_All_Top_50_BRCA': 'CF_BRCA_All',\n",
       " 'CF_LGGGBM_All_Top_100_LGGGBM': 'CF_LGGGBM_All',\n",
       " 'CF_SKCM_MUTA_Top_10_SKCM': 'CF_SKCM_MUTA',\n",
       " 'CF_COADREAD_All_Top_100_COADREAD': 'CF_COADREAD_All',\n",
       " 'jadbio_BRCA_GEXP_cumulative_feature_set25_BRCA': 'BRCA_GEXP_markers_outcome_association',\n",
       " 'jadbio_LGGGBM_MULTIDATATYPE_cumulative_feature_set20_LGGGBM': 'LGGGBM_MULTIDATATYPE_markers_outcome_association',\n",
       " 'jadbio_SKCM_MUTA_feature_set5_SKCM': 'SKCM_MUTA_markers_outcome_association',\n",
       " 'jadbio_COADREAD_MULTIDATATYPE_cumulative_feature_set24_COADREAD': 'COADREAD_MULTIDATATYPE_markers_outcome_association',\n",
       " 'subSCOPE-GEXP_2021-04-21_bootstrapfeatures_BRCA_BRCA': 'subSCOPE-GEXP_2021-04-21_bootstrapfeatures-pvals:BRCA',\n",
       " 'subSCOPE-METH_2021-04-21_bootstrapfeatures_LGGGBM_LGGGBM': 'subSCOPE-METH_2021-04-21_bootstrapfeatures-pvals:LGGGBM',\n",
       " 'subSCOPE-MUTA_2021-04-21_bootstrapfeatures_SKCM_SKCM': 'subSCOPE-MUTA_2021-04-21_bootstrapfeatures-pvals:SKCM',\n",
       " 'subSCOPE-METH_2021-04-21_bootstrapfeatures_COADREAD_COADREAD': 'subSCOPE-METH_2021-04-21_bootstrapfeatures-pvals:COADREAD',\n",
       " 'skgrid_BRCA_fbedeBIC_perplatformALL_BRCA': 'RandomForestClassifier(criterion=entropy,n_estimators=200)|skgrid_BRCA_fbedeBIC_perplatformALL|2021-01-13|c',\n",
       " 'skgrid_LGGGBM_rfe15_perplatformALL_LGGGBM': 'RandomForestClassifier(criterion=gini,n_estimators=100)|skgrid_LGGGBM_rfe15_perplatformALL|2021-01-13|c',\n",
       " 'skgrid_SKCM_fbedeBIC_perplatformALL_SKCM': 'ExtraTreesClassifier(criterion=entropy,n_estimators=128)|skgrid_SKCM_fbedeBIC_perplatformALL|2021-01-13|c',\n",
       " 'skgrid_COADREAD_fbedeBIC_perplatformALL_COADREAD': 'ExtraTreesClassifier(criterion=gini,n_estimators=96)|skgrid_COADREAD_fbedeBIC_perplatformALL|2021-01-13|c'}"
      ]
     },
     "execution_count": 4,
     "metadata": {},
     "output_type": "execute_result"
    }
   ],
   "source": [
    "dict1"
   ]
  },
  {
   "cell_type": "code",
   "execution_count": 5,
   "metadata": {},
   "outputs": [],
   "source": [
    "def get_team(name):\n",
    "    '''get name ex CF, AKLIMATE, jadbio, subSCOPE, skgrip'''\n",
    "\n",
    "    team = name.strip().split('_')[0].upper()\n",
    "    # correct for trailing info for subscope\n",
    "    if team.startswith('SUBSCOPE'):\n",
    "        team = 'SUBSCOPE'\n",
    "    cohort =name.strip().split('_')[-1]\n",
    "    return(cohort+'_'+team)"
   ]
  },
  {
   "cell_type": "code",
   "execution_count": 6,
   "metadata": {},
   "outputs": [
    {
     "data": {
      "text/plain": [
       "20247"
      ]
     },
     "execution_count": 6,
     "metadata": {},
     "output_type": "execute_result"
    }
   ],
   "source": [
    "j = df[df['feature_importance_ID']=='BRCA_GEXP_markers_outcome_association'].reset_index(drop=True)['json_object'][0]\n",
    "len(json.loads(j)['feature_importance_scores'])"
   ]
  },
  {
   "cell_type": "code",
   "execution_count": 7,
   "metadata": {},
   "outputs": [],
   "source": [
    "# Pull out all models\n",
    "main_list =[]\n",
    "alt_list = []\n",
    "for k,v in dict1.items():\n",
    "    main_list.append(k)\n",
    "    alt_list.append(v)\n",
    "    \n",
    "for i in range(0, len(main_list)):\n",
    "    main_model_name = main_list[i]\n",
    "\n",
    "    alt_name = alt_list[i]\n",
    "    dict_importance = df[df['feature_importance_ID']==alt_name].reset_index(drop=True)['json_object']\n",
    "#     if dict_importance.shape[0] != 1:\n",
    "#         print('Error, more than one\\n{}'.format(dict_importance))\n",
    "    dict_importance = dict_importance[0]\n",
    "    dict_importance = json.loads(dict_importance)\n",
    "\n",
    "    # Populate df and save\n",
    "    features = []\n",
    "    importance = []\n",
    "    try:\n",
    "        for k,v in dict_importance['feature_importance_scores'].items():\n",
    "            features.append(k)\n",
    "            importance.append(v)\n",
    "        assert len(features)==len(importance)\n",
    "    except:\n",
    "        for k,v in dict_importance['feature_importance_score'].items():\n",
    "            features.append(k)\n",
    "            importance.append(v)\n",
    "        assert len(features)==len(importance)\n",
    "    out = pd.DataFrame(list(zip(features, importance)), columns = ['features', 'importance'])\n",
    "    out.to_csv('../../data/top_model_importances/TOP_{}.tsv'.format(get_team(main_model_name)), sep='\\t', index=False)\n"
   ]
  },
  {
   "cell_type": "code",
   "execution_count": null,
   "metadata": {},
   "outputs": [],
   "source": []
  }
 ],
 "metadata": {
  "kernelspec": {
   "display_name": "Python 3",
   "language": "python",
   "name": "python3"
  },
  "language_info": {
   "codemirror_mode": {
    "name": "ipython",
    "version": 3
   },
   "file_extension": ".py",
   "mimetype": "text/x-python",
   "name": "python",
   "nbconvert_exporter": "python",
   "pygments_lexer": "ipython3",
   "version": "3.7.1"
  }
 },
 "nbformat": 4,
 "nbformat_minor": 2
}
