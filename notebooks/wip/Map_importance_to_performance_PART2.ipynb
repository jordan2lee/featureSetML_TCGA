{
 "cells": [
  {
   "cell_type": "code",
   "execution_count": 61,
   "metadata": {},
   "outputs": [],
   "source": [
    "######\n",
    "f_imp = '../../src/classifier_metrics_20210514/feature_importance.tsv'\n",
    "f_convert = '../../data/figure_panel_b/modelID_performance2importance.json'\n",
    "######\n",
    "\n",
    "import pandas as pd\n",
    "import json\n",
    "\n",
    "# Read in Converter\n",
    "with open(f_convert, 'r') as fh:\n",
    "    dict1 = json.load(fh)\n",
    "    \n",
    "# Read in importance matrix\n",
    "df = pd.read_csv(f_imp, sep ='\\t')"
   ]
  },
  {
   "cell_type": "code",
   "execution_count": 85,
   "metadata": {},
   "outputs": [],
   "source": [
    "# Pull out all models\n",
    "main_list =[]\n",
    "alt_list = []\n",
    "for k,v in dict1.items():\n",
    "    main_list.append(k)\n",
    "    alt_list.append(v)\n",
    "    \n",
    "for i in range(0, len(main_list)):\n",
    "    main_model_name = main_list[i]\n",
    "\n",
    "    alt_name = alt_list[i]\n",
    "    dict_importance = df[df['feature_importance_ID']==alt_name].reset_index(drop=True)['json_object']\n",
    "#     if dict_importance.shape[0] != 1:\n",
    "#         print('Error, more than one\\n{}'.format(dict_importance))\n",
    "    dict_importance = dict_importance[0]\n",
    "    dict_importance = json.loads(dict_importance)\n",
    "\n",
    "    # Populate df and save\n",
    "    features = []\n",
    "    importance = []\n",
    "    try:\n",
    "        for k,v in dict_importance['feature_importance_scores'].items():\n",
    "            features.append(k)\n",
    "            importance.append(v)\n",
    "        assert len(features)==len(importance)\n",
    "    except:\n",
    "        for k,v in dict_importance['feature_importance_score'].items():\n",
    "            features.append(k)\n",
    "            importance.append(v)\n",
    "        assert len(features)==len(importance)\n",
    "    out = pd.DataFrame(list(zip(features, importance)), columns = ['features', 'importance'])\n",
    "    out.to_csv('../../data/ft_importances/TOP_{}.tsv'.format(main_model_name), sep='\\t', index=False)\n"
   ]
  }
 ],
 "metadata": {
  "kernelspec": {
   "display_name": "Python 3",
   "language": "python",
   "name": "python3"
  },
  "language_info": {
   "codemirror_mode": {
    "name": "ipython",
    "version": 3
   },
   "file_extension": ".py",
   "mimetype": "text/x-python",
   "name": "python",
   "nbconvert_exporter": "python",
   "pygments_lexer": "ipython3",
   "version": "3.7.1"
  }
 },
 "nbformat": 4,
 "nbformat_minor": 2
}
