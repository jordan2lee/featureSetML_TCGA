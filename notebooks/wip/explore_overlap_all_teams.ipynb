{
 "cells": [
  {
   "cell_type": "code",
   "execution_count": 1,
   "metadata": {},
   "outputs": [],
   "source": [
    "# Purpose explore if there are features that are seen in all 5 team best models\n",
    "# if yes, then name the feature"
   ]
  },
  {
   "cell_type": "code",
   "execution_count": 2,
   "metadata": {},
   "outputs": [],
   "source": [
    "import pandas as pd"
   ]
  },
  {
   "cell_type": "code",
   "execution_count": 9,
   "metadata": {},
   "outputs": [],
   "source": [
    "cancer = 'LGGGBM'"
   ]
  },
  {
   "cell_type": "code",
   "execution_count": 11,
   "metadata": {},
   "outputs": [
    {
     "data": {
      "text/html": [
       "<div>\n",
       "<style scoped>\n",
       "    .dataframe tbody tr th:only-of-type {\n",
       "        vertical-align: middle;\n",
       "    }\n",
       "\n",
       "    .dataframe tbody tr th {\n",
       "        vertical-align: top;\n",
       "    }\n",
       "\n",
       "    .dataframe thead th {\n",
       "        text-align: right;\n",
       "    }\n",
       "</style>\n",
       "<table border=\"1\" class=\"dataframe\">\n",
       "  <thead>\n",
       "    <tr style=\"text-align: right;\">\n",
       "      <th></th>\n",
       "      <th>featureID</th>\n",
       "      <th>gnosis_1_LGGGBM</th>\n",
       "      <th>CF|All_Top 100_LGGGBM</th>\n",
       "      <th>AKLIMATE_LGGGBM_reduced_model_500_feature_set_LGGGBM</th>\n",
       "      <th>nn_jg_2020-03-20_top1kfreq:LGGGBM_LGGGBM</th>\n",
       "      <th>rfe15_LGGGBM</th>\n",
       "      <th>Total</th>\n",
       "    </tr>\n",
       "  </thead>\n",
       "  <tbody>\n",
       "    <tr>\n",
       "      <th>170</th>\n",
       "      <td>N:GEXP::RANBP17:64901:</td>\n",
       "      <td>1</td>\n",
       "      <td>1</td>\n",
       "      <td>1</td>\n",
       "      <td>1</td>\n",
       "      <td>1</td>\n",
       "      <td>5</td>\n",
       "    </tr>\n",
       "  </tbody>\n",
       "</table>\n",
       "</div>"
      ],
      "text/plain": [
       "                  featureID  gnosis_1_LGGGBM  CF|All_Top 100_LGGGBM  \\\n",
       "170  N:GEXP::RANBP17:64901:                1                      1   \n",
       "\n",
       "     AKLIMATE_LGGGBM_reduced_model_500_feature_set_LGGGBM  \\\n",
       "170                                                  1      \n",
       "\n",
       "     nn_jg_2020-03-20_top1kfreq:LGGGBM_LGGGBM  rfe15_LGGGBM  Total  \n",
       "170                                         1             1      5  "
      ]
     },
     "execution_count": 11,
     "metadata": {},
     "output_type": "execute_result"
    }
   ],
   "source": [
    "df = pd.read_csv('../../data/figure_panel_b/' + cancer + '_fts_by_TEAM.tsv', sep='\\t')\n",
    "df[df['Total']==5]"
   ]
  },
  {
   "cell_type": "code",
   "execution_count": null,
   "metadata": {},
   "outputs": [],
   "source": []
  },
  {
   "cell_type": "code",
   "execution_count": 13,
   "metadata": {},
   "outputs": [
    {
     "data": {
      "text/html": [
       "<div>\n",
       "<style scoped>\n",
       "    .dataframe tbody tr th:only-of-type {\n",
       "        vertical-align: middle;\n",
       "    }\n",
       "\n",
       "    .dataframe tbody tr th {\n",
       "        vertical-align: top;\n",
       "    }\n",
       "\n",
       "    .dataframe thead th {\n",
       "        text-align: right;\n",
       "    }\n",
       "</style>\n",
       "<table border=\"1\" class=\"dataframe\">\n",
       "  <thead>\n",
       "    <tr style=\"text-align: right;\">\n",
       "      <th></th>\n",
       "      <th>featureID</th>\n",
       "      <th>gnosis_1_LGGGBM</th>\n",
       "      <th>CF|All_Top 100_LGGGBM</th>\n",
       "      <th>AKLIMATE_LGGGBM_reduced_model_500_feature_set_LGGGBM</th>\n",
       "      <th>nn_jg_2020-03-20_top1kfreq:LGGGBM_LGGGBM</th>\n",
       "      <th>rfe15_LGGGBM</th>\n",
       "    </tr>\n",
       "  </thead>\n",
       "  <tbody>\n",
       "    <tr>\n",
       "      <th>491</th>\n",
       "      <td>N:GEXP::RANBP17:64901:</td>\n",
       "      <td>1</td>\n",
       "      <td>1</td>\n",
       "      <td>1</td>\n",
       "      <td>1</td>\n",
       "      <td>1</td>\n",
       "    </tr>\n",
       "  </tbody>\n",
       "</table>\n",
       "</div>"
      ],
      "text/plain": [
       "                  featureID  gnosis_1_LGGGBM  CF|All_Top 100_LGGGBM  \\\n",
       "491  N:GEXP::RANBP17:64901:                1                      1   \n",
       "\n",
       "     AKLIMATE_LGGGBM_reduced_model_500_feature_set_LGGGBM  \\\n",
       "491                                                  1      \n",
       "\n",
       "     nn_jg_2020-03-20_top1kfreq:LGGGBM_LGGGBM  rfe15_LGGGBM  \n",
       "491                                         1             1  "
      ]
     },
     "execution_count": 13,
     "metadata": {},
     "output_type": "execute_result"
    }
   ],
   "source": [
    "df2 = pd.read_csv('../../data/figure_panel_a/best_models_LGGGBM.tsv', sep='\\t')\n",
    "df2[df2['featureID']=='N:GEXP::RANBP17:64901:']"
   ]
  },
  {
   "cell_type": "code",
   "execution_count": null,
   "metadata": {},
   "outputs": [],
   "source": []
  }
 ],
 "metadata": {
  "kernelspec": {
   "display_name": "Python 3",
   "language": "python",
   "name": "python3"
  },
  "language_info": {
   "codemirror_mode": {
    "name": "ipython",
    "version": 3
   },
   "file_extension": ".py",
   "mimetype": "text/x-python",
   "name": "python",
   "nbconvert_exporter": "python",
   "pygments_lexer": "ipython3",
   "version": "3.7.1"
  }
 },
 "nbformat": 4,
 "nbformat_minor": 2
}
