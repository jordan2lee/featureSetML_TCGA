{
 "cells": [
  {
   "cell_type": "code",
   "execution_count": null,
   "metadata": {},
   "outputs": [],
   "source": [
    "# https://www.synapse.org/#!Synapse:syn22337110\n",
    "import pandas as pd"
   ]
  },
  {
   "cell_type": "code",
   "execution_count": null,
   "metadata": {
    "scrolled": true
   },
   "outputs": [],
   "source": [
    "df = pd.read_csv('../data/feature_list_with_performance_with_subtype_names_20200828.tsv',sep='\\t')\n",
    "df"
   ]
  },
  {
   "cell_type": "code",
   "execution_count": null,
   "metadata": {
    "scrolled": true
   },
   "outputs": [],
   "source": [
    "subset = df[df['featureID']=='rfe15_LUAD']\n",
    "subset=subset[subset['model']=='LUAD:ada()|rfe15|2020-03-02|c'].reset_index(drop=True)\n",
    "subset"
   ]
  },
  {
   "cell_type": "code",
   "execution_count": null,
   "metadata": {
    "scrolled": true
   },
   "outputs": [],
   "source": [
    "# See what performance metrics were calculated. add to dict one example\n",
    "pmetric={}\n",
    "for i in range(0, subset.shape[0]):\n",
    "    metric = subset['performance_metric'][i]\n",
    "    mean= subset['Mean'][i]\n",
    "    \n",
    "    if 'LUAD:' in metric:\n",
    "        metric = metric.partition('samples_')[2]\n",
    "        if metric not in pmetric:\n",
    "            pmetric[metric]=mean\n",
    "    else:\n",
    "        pmetric[metric]=mean\n",
    "for k, v in pmetric.items():\n",
    "    print(v, k)\n",
    "    print()"
   ]
  },
  {
   "cell_type": "code",
   "execution_count": null,
   "metadata": {},
   "outputs": [],
   "source": []
  }
 ],
 "metadata": {
  "kernelspec": {
   "display_name": "Python 3",
   "language": "python",
   "name": "python3"
  },
  "language_info": {
   "codemirror_mode": {
    "name": "ipython",
    "version": 3
   },
   "file_extension": ".py",
   "mimetype": "text/x-python",
   "name": "python",
   "nbconvert_exporter": "python",
   "pygments_lexer": "ipython3",
   "version": "3.7.1"
  }
 },
 "nbformat": 4,
 "nbformat_minor": 2
}
