{
 "cells": [
  {
   "cell_type": "code",
   "execution_count": 1,
   "metadata": {},
   "outputs": [],
   "source": [
    "#####\n",
    "pmetric = 'overall_weighted_f1'\n",
    "cancer = 'BRCA'\n",
    "file = '../../data/exact_match/best_models_BRCA.tsv'\n",
    "file_preds = '../../src/feature_list_with_performance_with_subtype_names_20200828.tsv.gz'\n",
    "file_fts = '../../src/collected_features_matrix_20200722.tsv.gz'\n",
    "file_tarball = '../../src/tarball/{}_v8_20200203.tsv'.format(cancer)\n",
    "out = '../../data/heatmap/BRCA_matrix_best.tsv'\n",
    "#####"
   ]
  },
  {
   "cell_type": "code",
   "execution_count": 2,
   "metadata": {},
   "outputs": [],
   "source": [
    "import pandas as pd"
   ]
  },
  {
   "cell_type": "code",
   "execution_count": 3,
   "metadata": {},
   "outputs": [
    {
     "name": "stderr",
     "output_type": "stream",
     "text": [
      "/Users/leejor/miniconda3/lib/python3.7/site-packages/IPython/core/interactiveshell.py:3049: DtypeWarning: Columns (18,19) have mixed types.Specify dtype option on import or set low_memory=False.\n",
      "  interactivity=interactivity, compiler=compiler, result=result)\n"
     ]
    }
   ],
   "source": [
    "master_preds = pd.read_csv(file_preds, sep = '\\t')\n",
    "# master_preds"
   ]
  },
  {
   "cell_type": "code",
   "execution_count": 4,
   "metadata": {
    "scrolled": true
   },
   "outputs": [
    {
     "name": "stdout",
     "output_type": "stream",
     "text": [
      "best model across all groups:  {'team': 'AKLIMATE_BRCA_reduced_model_1000_feature_set_BRCA', 'performance': 0.9259999999999999}\n",
      "1000 fts in best model\n"
     ]
    }
   ],
   "source": [
    "# Find best model across all groups\n",
    "master_fts = pd.read_csv(file, sep = '\\t', index_col = 0)\n",
    "\n",
    "best = {'team':0, 'performance':0}\n",
    "for c in master_fts.columns:\n",
    "    # Fix naming for cloudforest\n",
    "    if c.startswith('CF|'):\n",
    "        c = c.replace(' ','_')\n",
    "    subset = master_preds[master_preds['featureID']==c]\n",
    "    subset = subset[subset['cohort'] == cancer]\n",
    "    m = subset[subset['performance_metric']== pmetric].sort_values(by='Mean', ascending=False).reset_index(drop=True)['Mean']\n",
    "    m = m[0]\n",
    "    if m > best['performance']:\n",
    "        best['team'] = c\n",
    "        best['performance'] = m\n",
    "    elif m == best['performance']:\n",
    "        print('equal performance found, need to update code')\n",
    "print('best model across all groups: ', best)\n",
    "    \n",
    "# Pull features of that model\n",
    "df = pd.read_csv('../../data/exact_match/best_models_BRCA.tsv', sep = '\\t', index_col=0)\n",
    "fts = df.index[df[best['team']] == 1].tolist()\n",
    "print(len(fts), 'fts in best model')     "
   ]
  },
  {
   "cell_type": "code",
   "execution_count": 5,
   "metadata": {},
   "outputs": [],
   "source": [
    "# Get values of original matrix for features of interest\n",
    "tarball = pd.read_csv(file_tarball, sep = '\\t', index_col = 0)"
   ]
  },
  {
   "cell_type": "code",
   "execution_count": 6,
   "metadata": {
    "scrolled": true
   },
   "outputs": [],
   "source": [
    "# tarball"
   ]
  },
  {
   "cell_type": "code",
   "execution_count": 7,
   "metadata": {
    "scrolled": true
   },
   "outputs": [],
   "source": [
    "mat = tarball[['Labels']+ fts]\n",
    "mat.to_csv(out, sep='\\t')"
   ]
  },
  {
   "cell_type": "code",
   "execution_count": null,
   "metadata": {},
   "outputs": [],
   "source": []
  }
 ],
 "metadata": {
  "kernelspec": {
   "display_name": "Python 3",
   "language": "python",
   "name": "python3"
  },
  "language_info": {
   "codemirror_mode": {
    "name": "ipython",
    "version": 3
   },
   "file_extension": ".py",
   "mimetype": "text/x-python",
   "name": "python",
   "nbconvert_exporter": "python",
   "pygments_lexer": "ipython3",
   "version": "3.7.1"
  }
 },
 "nbformat": 4,
 "nbformat_minor": 2
}
