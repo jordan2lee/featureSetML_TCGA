{
 "cells": [
  {
   "cell_type": "code",
   "execution_count": null,
   "metadata": {
    "scrolled": true
   },
   "outputs": [],
   "source": [
    "import pandas as pd\n",
    "import json\n",
    "import numpy as np\n",
    "import scipy.stats\n",
    "import matplotlib.pyplot as plt\n",
    "from matplotlib_venn import venn2"
   ]
  },
  {
   "cell_type": "code",
   "execution_count": null,
   "metadata": {},
   "outputs": [],
   "source": [
    "############# Preprocessing sets\n",
    "cancer = 'BRCA'\n",
    "#############"
   ]
  },
  {
   "cell_type": "markdown",
   "metadata": {},
   "source": [
    "# Correlation Analysis"
   ]
  },
  {
   "cell_type": "code",
   "execution_count": null,
   "metadata": {},
   "outputs": [],
   "source": [
    "\n",
    "############# Correlation sets\n",
    "# Options 'gnosis:BRCA:1', \n",
    "#         'BRCA:CF|All_Top 100',\n",
    "#         'AKLIMATE_BRCA_reduced_model_1000_feature_set',\n",
    "#         'nn_jg_2020-03-20_top1kfreq:BRCA', \n",
    "#         'fbedeBIC_BRCA'\n",
    "grp1 = 'gnosis:BRCA:1'\n",
    "grp2 = 'BRCA:CF|All_Top 100'\n",
    "cancer = 'BRCA'\n",
    "#############"
   ]
  },
  {
   "cell_type": "code",
   "execution_count": null,
   "metadata": {},
   "outputs": [],
   "source": [
    "ft_df = pd.read_csv('../data/correlation/CORR_' + cancer + '_featurelist.tsv', sep = '\\t')"
   ]
  },
  {
   "cell_type": "code",
   "execution_count": null,
   "metadata": {
    "scrolled": true
   },
   "outputs": [],
   "source": [
    "master_df = pd.read_csv('../src/tarball/' + cancer + '_v8_20200203.tsv', sep='\\t', index_col=0)\n",
    "# master_df"
   ]
  },
  {
   "cell_type": "markdown",
   "metadata": {},
   "source": [
    "How much overlap?"
   ]
  },
  {
   "cell_type": "code",
   "execution_count": null,
   "metadata": {},
   "outputs": [],
   "source": [
    "venn2([set(ft_df[grp1].dropna()), set(ft_df[grp2].dropna())], set_labels=[grp1,grp2])\n",
    "plt.show()"
   ]
  },
  {
   "cell_type": "markdown",
   "metadata": {},
   "source": [
    "Of those not overlapping, are they correlated?"
   ]
  },
  {
   "cell_type": "code",
   "execution_count": null,
   "metadata": {
    "scrolled": false
   },
   "outputs": [],
   "source": [
    "# Get feature lists\n",
    "grp1_fts = ft_df[grp1].dropna()\n",
    "grp2_fts = ft_df[grp2].dropna()\n",
    "\n",
    "# Dataframe prep\n",
    "cols = ['corr', 'pval', 'gene1', 'gene2', 'group1', 'group2']\n",
    "gene1 = []\n",
    "gene2 = []\n",
    "corr = []\n",
    "pval = []\n",
    "group1 = []\n",
    "group2 = []\n",
    "    \n",
    "# calculate corr\n",
    "for g1 in grp1_fts:\n",
    "    for g2 in grp2_fts:\n",
    "#         if 'GEXP' in g1 and 'GEXP' in g2:\n",
    "        if g1 == g2:\n",
    "            pass\n",
    "        else:\n",
    "            # correlation matrix (coor coefficients)\n",
    "            x = master_df[g1]\n",
    "            y = master_df[g2]\n",
    "            c, p = scipy.stats.spearmanr(x, y)\n",
    "\n",
    "            gene1.append(g1)\n",
    "            gene2.append(g2)\n",
    "            corr.append(c)\n",
    "            pval.append(p)\n",
    "            group1.append(grp1)\n",
    "            group2.append(grp2)\n",
    "\n",
    "# save results\n",
    "res = pd.DataFrame(list(zip( corr, pval,gene1, gene2, group1, group2)), columns = cols)\n",
    "res = res.reindex(res['corr'].abs().sort_values(ascending=False).index).reset_index(drop=True) # sort by abs corr\n",
    "res.to_csv('../data/correlation/out/corr_matrix_' + grp1 + '_' + grp2 + '.tsv', sep='\\t',index=False)\n",
    "res"
   ]
  },
  {
   "cell_type": "code",
   "execution_count": null,
   "metadata": {},
   "outputs": [],
   "source": [
    "n_correlated = len(res[res['corr']> 0.5]) + len(res[res['corr']< -0.5])\n",
    "print(n_correlated, 'correlated genes pairs (', (n_correlated/res.shape[0] )*100, '%) between ', grp1, grp2)\n",
    "print('excludes instances where both groups picked same gene')"
   ]
  },
  {
   "cell_type": "markdown",
   "metadata": {},
   "source": [
    "##### Log (stored in `data/correlation/out/` with prefix `corr_matrix_`)\n",
    "\n",
    "Between JADBIO and CloudForest (gnosis:BRCA:1, BRCA:CF|All_Top 100)\n",
    "+ 11 overlaps\n",
    "+ 560 correlated genes pairs ( 22.49899558055444 %) excludes instances where both groups picked same gene. \n",
    "\n",
    "Between JADBIO and AKLIMATE (gnosis:BRCA:1, AKLIMATE_BRCA_reduced_model_1000_feature_set)\n",
    "+ 22 overlaps\n",
    "+ 5295 correlated genes pairs ( 7.908532851403223 %) excludes instances where both groups picked same gene\n",
    "\n",
    "\n",
    "Between JADBIO and SubSCOPE (gnosis:BRCA:1, nn_jg_2020-03-20_top1kfreq:BRCA)\n",
    "+ 2 overlaps\n",
    "+ 432 correlated genes pairs ( 2.179286687181557 %) excludes instances where both groups picked same gene\n",
    "\n",
    "\n",
    "Between JADBIO and SciKit_grid\n",
    "+ \n",
    "+ \n",
    "\n",
    "\n",
    "\n",
    "Between CloudForest and AKLIMATE (AKLIMATE_BRCA_reduced_model_1000_feature_set, BRCA:CF|All_Top 100)\n",
    "+ 96 overlaps\n",
    "+ 19652 correlated genes pairs ( 7.338202566055772 %) excludes instances where both groups picked same gene\n",
    "\n",
    "Between CloudForest and SubSCOPE (BRCA:CF|All_Top 100, nn_jg_2020-03-20_top1kfreq:BRCA)\n",
    "+ 5 overlaps\n",
    "+ 1550 correlated genes pairs ( 1.954726023078378 %) excludes instances where both groups picked same gene\n",
    "\n",
    "Between CloudForest and SciKit_grid\n",
    "+ \n",
    "+ \n",
    "\n",
    "Between AKLIMATE and SubSCOPE\n",
    "+ 239 overlaps\n",
    "+ \n",
    "\n",
    "Between AKLIMATE and SciKit_grid\n",
    "+ \n",
    "+ \n",
    "\n",
    "Between SubSCOPE and SciKit_grid\n",
    "+ \n",
    "+ "
   ]
  },
  {
   "cell_type": "markdown",
   "metadata": {},
   "source": [
    "# Suggestions"
   ]
  },
  {
   "cell_type": "code",
   "execution_count": null,
   "metadata": {},
   "outputs": [],
   "source": [
    "# then is this number more or less than we expect randomly -- we can do a null model\n",
    "# what if those 2 groups picked randomly any genes (from orig matix) > until fill\n",
    "# then repeat 100 times (check for more correlations, but could do 2 tailed )\n",
    "# ---eventually play with pval thres\n",
    "# then plot distribut of this null model"
   ]
  },
  {
   "cell_type": "code",
   "execution_count": null,
   "metadata": {},
   "outputs": [],
   "source": [
    "# explore miRNA\n",
    "res_dict = {}\n",
    "\n",
    "for col in ft_df.columns:\n",
    "    vals = []\n",
    "    for f in ft_df[col].dropna():\n",
    "        if 'N:MIR' in f:\n",
    "            vals.append(f)\n",
    "    res_dict[col]=vals\n"
   ]
  },
  {
   "cell_type": "code",
   "execution_count": null,
   "metadata": {},
   "outputs": [],
   "source": [
    "mi_df = pd.DataFrame.from_dict(res_dict,orient='index').T\n",
    "print('these are the miRNA features in the best performing models')\n",
    "mi_df"
   ]
  },
  {
   "cell_type": "code",
   "execution_count": null,
   "metadata": {},
   "outputs": [],
   "source": []
  }
 ],
 "metadata": {
  "kernelspec": {
   "display_name": "Python 3",
   "language": "python",
   "name": "python3"
  },
  "language_info": {
   "codemirror_mode": {
    "name": "ipython",
    "version": 3
   },
   "file_extension": ".py",
   "mimetype": "text/x-python",
   "name": "python",
   "nbconvert_exporter": "python",
   "pygments_lexer": "ipython3",
   "version": "3.7.1"
  }
 },
 "nbformat": 4,
 "nbformat_minor": 2
}
