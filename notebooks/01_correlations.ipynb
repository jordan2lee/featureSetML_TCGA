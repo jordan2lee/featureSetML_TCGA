{
 "cells": [
  {
   "cell_type": "code",
   "execution_count": 7,
   "metadata": {
    "scrolled": true
   },
   "outputs": [],
   "source": [
    "import pandas as pd\n",
    "import json\n",
    "import numpy as np\n",
    "import scipy.stats\n",
    "import matplotlib.pyplot as plt\n",
    "from matplotlib_venn import venn2"
   ]
  },
  {
   "cell_type": "code",
   "execution_count": 15,
   "metadata": {},
   "outputs": [],
   "source": [
    "############# Preprocessing sets\n",
    "cancer = 'BRCA'\n",
    "ft_file = '../data/correlation/CORR_' + cancer + '_featurelist.tsv'\n",
    "master_file = '../src/tarball/' + cancer + '_v8_20200203.tsv'\n",
    "outdir = '../data/correlation/out/'\n",
    "#############\n",
    "\n",
    "############# Correlation sets\n",
    "# Options 'gnosis:BRCA:1', \n",
    "#         'BRCA:CF|All_Top 100',\n",
    "#         'AKLIMATE_BRCA_reduced_model_1000_feature_set',\n",
    "#         'nn_jg_2020-03-20_top1kfreq:BRCA', \n",
    "#         'fbedeBIC_BRCA'\n",
    "grp1 = 'gnosis:BRCA:1'\n",
    "grp2 = 'BRCA:CF|All_Top 100'\n",
    "grp1_label='gnosis'\n",
    "grp2_label='cloudforest'\n",
    "cancer = 'BRCA'\n",
    "#############"
   ]
  },
  {
   "cell_type": "markdown",
   "metadata": {},
   "source": [
    "# Correlation Analysis"
   ]
  },
  {
   "cell_type": "code",
   "execution_count": 9,
   "metadata": {},
   "outputs": [],
   "source": [
    "# Features for each model\n",
    "ft_df = pd.read_csv(ft_file, sep = '\\t')\n",
    "\n",
    "# Raw tarball - samples x [labels, feature values]\n",
    "master_df = pd.read_csv(master_file, sep='\\t', index_col=0)"
   ]
  },
  {
   "cell_type": "markdown",
   "metadata": {},
   "source": [
    "How much overlap?"
   ]
  },
  {
   "cell_type": "code",
   "execution_count": 17,
   "metadata": {},
   "outputs": [
    {
     "data": {
      "image/png": "[encoded data removed]",
      "text/plain": [
       "<Figure size 432x288 with 1 Axes>"
      ]
     },
     "metadata": {},
     "output_type": "display_data"
    }
   ],
   "source": [
    "# save venn diagram\n",
    "venn2([set(ft_df[grp1].dropna()), set(ft_df[grp2].dropna())], set_labels=[grp1,grp2])\n",
    "plt.savefig('../data/correlation_exact_match/venn_{}_{}.png'.format(grp1_label, grp2_label) )"
   ]
  },
  {
   "cell_type": "markdown",
   "metadata": {},
   "source": [
    "Of those not overlapping, are they correlated?"
   ]
  },
  {
   "cell_type": "code",
   "execution_count": 18,
   "metadata": {
    "scrolled": false
   },
   "outputs": [
    {
     "data": {
      "text/html": [
       "<div>\n",
       "<style scoped>\n",
       "    .dataframe tbody tr th:only-of-type {\n",
       "        vertical-align: middle;\n",
       "    }\n",
       "\n",
       "    .dataframe tbody tr th {\n",
       "        vertical-align: top;\n",
       "    }\n",
       "\n",
       "    .dataframe thead th {\n",
       "        text-align: right;\n",
       "    }\n",
       "</style>\n",
       "<table border=\"1\" class=\"dataframe\">\n",
       "  <thead>\n",
       "    <tr style=\"text-align: right;\">\n",
       "      <th></th>\n",
       "      <th>corr</th>\n",
       "      <th>pval</th>\n",
       "      <th>gene1</th>\n",
       "      <th>gene2</th>\n",
       "      <th>group1</th>\n",
       "      <th>group2</th>\n",
       "    </tr>\n",
       "  </thead>\n",
       "  <tbody>\n",
       "    <tr>\n",
       "      <th>0</th>\n",
       "      <td>0.911333</td>\n",
       "      <td>0.000000</td>\n",
       "      <td>N:GEXP::TPX2:22974:</td>\n",
       "      <td>N:GEXP::CCNA2:890:</td>\n",
       "      <td>gnosis:BRCA:1</td>\n",
       "      <td>BRCA:CF|All_Top 100</td>\n",
       "    </tr>\n",
       "    <tr>\n",
       "      <th>1</th>\n",
       "      <td>0.910782</td>\n",
       "      <td>0.000000</td>\n",
       "      <td>N:GEXP::TPX2:22974:</td>\n",
       "      <td>N:GEXP::BUB1:699:</td>\n",
       "      <td>gnosis:BRCA:1</td>\n",
       "      <td>BRCA:CF|All_Top 100</td>\n",
       "    </tr>\n",
       "    <tr>\n",
       "      <th>2</th>\n",
       "      <td>0.909773</td>\n",
       "      <td>0.000000</td>\n",
       "      <td>N:GEXP::CENPA:1058:</td>\n",
       "      <td>N:GEXP::CCNB2:9133:</td>\n",
       "      <td>gnosis:BRCA:1</td>\n",
       "      <td>BRCA:CF|All_Top 100</td>\n",
       "    </tr>\n",
       "    <tr>\n",
       "      <th>3</th>\n",
       "      <td>0.907859</td>\n",
       "      <td>0.000000</td>\n",
       "      <td>N:GEXP::TPX2:22974:</td>\n",
       "      <td>N:GEXP::CEP55:55165:</td>\n",
       "      <td>gnosis:BRCA:1</td>\n",
       "      <td>BRCA:CF|All_Top 100</td>\n",
       "    </tr>\n",
       "    <tr>\n",
       "      <th>4</th>\n",
       "      <td>0.905904</td>\n",
       "      <td>0.000000</td>\n",
       "      <td>N:GEXP::TPX2:22974:</td>\n",
       "      <td>N:GEXP::FOXM1:2305:</td>\n",
       "      <td>gnosis:BRCA:1</td>\n",
       "      <td>BRCA:CF|All_Top 100</td>\n",
       "    </tr>\n",
       "    <tr>\n",
       "      <th>...</th>\n",
       "      <td>...</td>\n",
       "      <td>...</td>\n",
       "      <td>...</td>\n",
       "      <td>...</td>\n",
       "      <td>...</td>\n",
       "      <td>...</td>\n",
       "    </tr>\n",
       "    <tr>\n",
       "      <th>2484</th>\n",
       "      <td>-0.001139</td>\n",
       "      <td>0.971366</td>\n",
       "      <td>N:GEXP::DEGS2:123099:</td>\n",
       "      <td>N:GEXP::CLCA2:9635:</td>\n",
       "      <td>gnosis:BRCA:1</td>\n",
       "      <td>BRCA:CF|All_Top 100</td>\n",
       "    </tr>\n",
       "    <tr>\n",
       "      <th>2485</th>\n",
       "      <td>0.000971</td>\n",
       "      <td>0.975606</td>\n",
       "      <td>N:GEXP::WDR67:93594:</td>\n",
       "      <td>N:GEXP::TRIM29:23650:</td>\n",
       "      <td>gnosis:BRCA:1</td>\n",
       "      <td>BRCA:CF|All_Top 100</td>\n",
       "    </tr>\n",
       "    <tr>\n",
       "      <th>2486</th>\n",
       "      <td>0.000811</td>\n",
       "      <td>0.979617</td>\n",
       "      <td>N:MIR::hsa-miR-30c-2-3p:Corrected:</td>\n",
       "      <td>N:GEXP::BCL11A:53335:</td>\n",
       "      <td>gnosis:BRCA:1</td>\n",
       "      <td>BRCA:CF|All_Top 100</td>\n",
       "    </tr>\n",
       "    <tr>\n",
       "      <th>2487</th>\n",
       "      <td>0.000615</td>\n",
       "      <td>0.984542</td>\n",
       "      <td>N:MIR::hsa-miR-4677-3p:Corrected:</td>\n",
       "      <td>N:GEXP::GRB7:2886:</td>\n",
       "      <td>gnosis:BRCA:1</td>\n",
       "      <td>BRCA:CF|All_Top 100</td>\n",
       "    </tr>\n",
       "    <tr>\n",
       "      <th>2488</th>\n",
       "      <td>-0.000184</td>\n",
       "      <td>0.995372</td>\n",
       "      <td>N:GEXP::MYBL1:4603:</td>\n",
       "      <td>N:GEXP::C17orf37:84299:</td>\n",
       "      <td>gnosis:BRCA:1</td>\n",
       "      <td>BRCA:CF|All_Top 100</td>\n",
       "    </tr>\n",
       "  </tbody>\n",
       "</table>\n",
       "<p>2489 rows × 6 columns</p>\n",
       "</div>"
      ],
      "text/plain": [
       "          corr      pval                               gene1  \\\n",
       "0     0.911333  0.000000                 N:GEXP::TPX2:22974:   \n",
       "1     0.910782  0.000000                 N:GEXP::TPX2:22974:   \n",
       "2     0.909773  0.000000                 N:GEXP::CENPA:1058:   \n",
       "3     0.907859  0.000000                 N:GEXP::TPX2:22974:   \n",
       "4     0.905904  0.000000                 N:GEXP::TPX2:22974:   \n",
       "...        ...       ...                                 ...   \n",
       "2484 -0.001139  0.971366               N:GEXP::DEGS2:123099:   \n",
       "2485  0.000971  0.975606                N:GEXP::WDR67:93594:   \n",
       "2486  0.000811  0.979617  N:MIR::hsa-miR-30c-2-3p:Corrected:   \n",
       "2487  0.000615  0.984542   N:MIR::hsa-miR-4677-3p:Corrected:   \n",
       "2488 -0.000184  0.995372                 N:GEXP::MYBL1:4603:   \n",
       "\n",
       "                        gene2         group1               group2  \n",
       "0          N:GEXP::CCNA2:890:  gnosis:BRCA:1  BRCA:CF|All_Top 100  \n",
       "1           N:GEXP::BUB1:699:  gnosis:BRCA:1  BRCA:CF|All_Top 100  \n",
       "2         N:GEXP::CCNB2:9133:  gnosis:BRCA:1  BRCA:CF|All_Top 100  \n",
       "3        N:GEXP::CEP55:55165:  gnosis:BRCA:1  BRCA:CF|All_Top 100  \n",
       "4         N:GEXP::FOXM1:2305:  gnosis:BRCA:1  BRCA:CF|All_Top 100  \n",
       "...                       ...            ...                  ...  \n",
       "2484      N:GEXP::CLCA2:9635:  gnosis:BRCA:1  BRCA:CF|All_Top 100  \n",
       "2485    N:GEXP::TRIM29:23650:  gnosis:BRCA:1  BRCA:CF|All_Top 100  \n",
       "2486    N:GEXP::BCL11A:53335:  gnosis:BRCA:1  BRCA:CF|All_Top 100  \n",
       "2487       N:GEXP::GRB7:2886:  gnosis:BRCA:1  BRCA:CF|All_Top 100  \n",
       "2488  N:GEXP::C17orf37:84299:  gnosis:BRCA:1  BRCA:CF|All_Top 100  \n",
       "\n",
       "[2489 rows x 6 columns]"
      ]
     },
     "execution_count": 18,
     "metadata": {},
     "output_type": "execute_result"
    }
   ],
   "source": [
    "# Get feature lists\n",
    "grp1_fts = ft_df[grp1].dropna()\n",
    "grp2_fts = ft_df[grp2].dropna()\n",
    "\n",
    "# Dataframe prep\n",
    "cols = ['corr', 'pval', 'gene1', 'gene2', 'group1', 'group2']\n",
    "gene1 = []\n",
    "gene2 = []\n",
    "corr = []\n",
    "pval = []\n",
    "group1 = []\n",
    "group2 = []\n",
    "    \n",
    "# calculate corr\n",
    "for g1 in grp1_fts:\n",
    "    for g2 in grp2_fts:\n",
    "#         if 'GEXP' in g1 and 'GEXP' in g2:\n",
    "        if g1 == g2:\n",
    "            pass\n",
    "        else:\n",
    "            # correlation matrix (coor coefficients)\n",
    "            x = master_df[g1]\n",
    "            y = master_df[g2]\n",
    "            c, p = scipy.stats.spearmanr(x, y)\n",
    "\n",
    "            gene1.append(g1)\n",
    "            gene2.append(g2)\n",
    "            corr.append(c)\n",
    "            pval.append(p)\n",
    "            group1.append(grp1)\n",
    "            group2.append(grp2)\n",
    "\n",
    "# save correlation result values\n",
    "res = pd.DataFrame(list(zip( corr, pval,gene1, gene2, group1, group2)), columns = cols)\n",
    "res = res.reindex(res['corr'].abs().sort_values(ascending=False).index).reset_index(drop=True) # sort by abs corr\n",
    "res.to_csv(outdir + 'corr_matrix_' + grp1 + '_' + grp2 + '.tsv', sep='\\t',index=False)\n",
    "res"
   ]
  },
  {
   "cell_type": "code",
   "execution_count": 32,
   "metadata": {},
   "outputs": [],
   "source": [
    "# write log file\n",
    "with open('../data/correlation_exact_match/log_{}_{}.txt'.format(grp1_label, grp2_label), 'w') as out:\n",
    "    n_correlated = len(res[res['corr']> 0.5]) + len(res[res['corr']< -0.5])\n",
    "    out.write(' '.join(['#', grp1, grp2]) + '\\n')\n",
    "    out.write(str(n_correlated) + ' correlated genes pairs (' + str((n_correlated/res.shape[0] )*100) + '%)\\n')\n",
    "    out.write('excludes instances where both groups picked same gene\\n')"
   ]
  },
  {
   "cell_type": "markdown",
   "metadata": {},
   "source": [
    "##### Log (stored in `data/correlation/out/` with prefix `corr_matrix_`)\n",
    "\n",
    "Between JADBIO and CloudForest (gnosis:BRCA:1, BRCA:CF|All_Top 100)\n",
    "+ 11 overlaps\n",
    "+ 560 correlated genes pairs ( 22.49899558055444 %) excludes instances where both groups picked same gene. \n",
    "\n",
    "Between JADBIO and AKLIMATE (gnosis:BRCA:1, AKLIMATE_BRCA_reduced_model_1000_feature_set)\n",
    "+ 22 overlaps\n",
    "+ 5295 correlated genes pairs ( 7.908532851403223 %) excludes instances where both groups picked same gene\n",
    "\n",
    "\n",
    "Between JADBIO and SubSCOPE (gnosis:BRCA:1, nn_jg_2020-03-20_top1kfreq:BRCA)\n",
    "+ 2 overlaps\n",
    "+ 432 correlated genes pairs ( 2.179286687181557 %) excludes instances where both groups picked same gene\n",
    "\n",
    "\n",
    "Between JADBIO and SciKit_grid\n",
    "+ \n",
    "+ \n",
    "\n",
    "\n",
    "\n",
    "Between CloudForest and AKLIMATE (AKLIMATE_BRCA_reduced_model_1000_feature_set, BRCA:CF|All_Top 100)\n",
    "+ 96 overlaps\n",
    "+ 19652 correlated genes pairs ( 7.338202566055772 %) excludes instances where both groups picked same gene\n",
    "\n",
    "Between CloudForest and SubSCOPE (BRCA:CF|All_Top 100, nn_jg_2020-03-20_top1kfreq:BRCA)\n",
    "+ 5 overlaps\n",
    "+ 1550 correlated genes pairs ( 1.954726023078378 %) excludes instances where both groups picked same gene\n",
    "\n",
    "Between CloudForest and SciKit_grid\n",
    "+ \n",
    "+ \n",
    "\n",
    "Between AKLIMATE and SubSCOPE\n",
    "+ 239 overlaps\n",
    "+ \n",
    "\n",
    "Between AKLIMATE and SciKit_grid\n",
    "+ \n",
    "+ \n",
    "\n",
    "Between SubSCOPE and SciKit_grid\n",
    "+ \n",
    "+ "
   ]
  },
  {
   "cell_type": "markdown",
   "metadata": {},
   "source": [
    "# Suggestions"
   ]
  },
  {
   "cell_type": "code",
   "execution_count": null,
   "metadata": {},
   "outputs": [],
   "source": [
    "# then is this number more or less than we expect randomly -- we can do a null model\n",
    "# what if those 2 groups picked randomly any genes (from orig matix) > until fill\n",
    "# then repeat 100 times (check for more correlations, but could do 2 tailed )\n",
    "# ---eventually play with pval thres\n",
    "# then plot distribut of this null model"
   ]
  },
  {
   "cell_type": "code",
   "execution_count": null,
   "metadata": {},
   "outputs": [],
   "source": [
    "# explore miRNA\n",
    "res_dict = {}\n",
    "\n",
    "for col in ft_df.columns:\n",
    "    vals = []\n",
    "    for f in ft_df[col].dropna():\n",
    "        if 'N:MIR' in f:\n",
    "            vals.append(f)\n",
    "    res_dict[col]=vals\n"
   ]
  },
  {
   "cell_type": "code",
   "execution_count": null,
   "metadata": {},
   "outputs": [],
   "source": [
    "mi_df = pd.DataFrame.from_dict(res_dict,orient='index').T\n",
    "print('these are the miRNA features in the best performing models')\n",
    "mi_df"
   ]
  },
  {
   "cell_type": "code",
   "execution_count": null,
   "metadata": {},
   "outputs": [],
   "source": []
  }
 ],
 "metadata": {
  "kernelspec": {
   "display_name": "Python 3",
   "language": "python",
   "name": "python3"
  },
  "language_info": {
   "codemirror_mode": {
    "name": "ipython",
    "version": 3
   },
   "file_extension": ".py",
   "mimetype": "text/x-python",
   "name": "python",
   "nbconvert_exporter": "python",
   "pygments_lexer": "ipython3",
   "version": "3.7.1"
  }
 },
 "nbformat": 4,
 "nbformat_minor": 2
}
