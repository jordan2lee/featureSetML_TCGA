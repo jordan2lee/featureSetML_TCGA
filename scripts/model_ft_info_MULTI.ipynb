{
 "cells": [
  {
   "cell_type": "code",
   "execution_count": null,
   "id": "8f2db4ec",
   "metadata": {},
   "outputs": [],
   "source": [
    "import pandas as pd\n",
    "import yaml\n",
    "\n",
    "reverse_name = {\n",
    "    'AKLIMATE':'aklimate', \n",
    "    'CF':'cloudforest',\n",
    "    'jadbio':'jadbio',\n",
    "    'skgrid':'skgrid',\n",
    "    'subSCOPE':'subscope'\n",
    "}\n",
    "\n",
    "\n",
    "harmonize_MULTI = {\n",
    "    # does not contain subscope\n",
    "    'OVERALL_skgrid': 'MULTI',\n",
    "    'All_cloudforest': 'MULTI',\n",
    "    'MULTI_jadbio': 'MULTI', # no change\n",
    "    'MULTI_aklimate': 'MULTI', # no change\n",
    "}\n",
    "\n",
    "\n",
    "def get_MULTI_fts(FT_DF, CANCER, ALGOR, PLATFORM):\n",
    "    '''get the feature sets of MULTI PLATFORM'''\n",
    "    nameconvert = {\n",
    "        'aklimate':'AKLIMATE', \n",
    "        'cloudforest':'CF',\n",
    "        'jadbio':'jadbio',\n",
    "        'skgrid':'skgrid',\n",
    "        'subscope':'subSCOPE'\n",
    "    }\n",
    "\n",
    "    assert ALGOR in ['subscope', 'aklimate', 'cloudforest', 'skgrid', 'jadbio'], '{} not in specified options of [subscope, aklimate, cloudforest, skgrid, jadbio]'.format(algor)\n",
    "    \n",
    "    # Subscope did not have a MULTI model\n",
    "    if algor =='subscope':\n",
    "        return 'NA'\n",
    "    \n",
    "    else:\n",
    "        final_fts = []\n",
    "        # get model details\n",
    "        ft_id = best[CANCER][nameconvert[ALGOR]]['info_'+PLATFORM]['full_featureID']\n",
    "\n",
    "        # filter FT_DF for CANCER and ALGOR\n",
    "        s1 = FT_DF[(FT_DF['feature_list_cohort']==CANCER)&(FT_DF['feature_list_method']==nameconvert[ALGOR])]\n",
    "\n",
    "        # get fts for that model\n",
    "        a = [fid for fid in s1.index if ft_id in fid]\n",
    "        assert len(a)==1, 'error {} was not found in s1'.format(ft_id)\n",
    "        s1 = s1.loc[a[0],]\n",
    "\n",
    "        # add fts if present \n",
    "        s1 = s1.drop(['feature_list_method','feature_list_cohort','feature_list_size'])\n",
    "        for i in range(0, s1.shape[0]):\n",
    "            value = s1[i]\n",
    "            if value == '1':\n",
    "                ft = s1.index[i]\n",
    "                final_fts.append(ft)\n",
    "\n",
    "        return final_fts\n"
   ]
  },
  {
   "cell_type": "code",
   "execution_count": null,
   "id": "f4827a5c",
   "metadata": {},
   "outputs": [],
   "source": [
    "# open christina's filed\n",
    "perf_df =pd.read_csv('../src/BestModelPerDataTypePerGroup_deduplicated_2022_06_16_fixed_fromChristina.txt', sep='\\t')\n",
    "perf_df"
   ]
  },
  {
   "cell_type": "code",
   "execution_count": null,
   "id": "c5fca632",
   "metadata": {},
   "outputs": [],
   "source": [
    "# pull up info used in docker models\n",
    "with open('../../../09_docker/gdan-tmp-models/tools/model_info.json', 'r') as file:\n",
    "    info = yaml.safe_load(file)\n",
    "    \n",
    "with open('../data/table_docker_info/options_extended_100ftmax.yml', 'r') as fh2:\n",
    "    best = yaml.load(fh2, Loader=yaml.Loader)\n",
    "    \n",
    "# open file with ft info\n",
    "# prep, drop meta col\n",
    "file = '../src/classifier_metrics_20220511/collected_features_matrix.tsv'\n",
    "ft_df = pd.read_csv(file, sep='\\t', index_col=0, low_memory=False)\n",
    "ft_df = ft_df.drop('total_number_of_lists', axis=1)\n",
    "ft_df = ft_df.transpose()"
   ]
  },
  {
   "cell_type": "code",
   "execution_count": null,
   "id": "fa734e25",
   "metadata": {},
   "outputs": [],
   "source": [
    "harmonize_BESTwithinAlgor = {\n",
    "    'TOP_aklimate': 'pass',\n",
    "     'OVERALL_subscope': 'MULTI',\n",
    "     'OVERALL_cloudforest': 'MULTI',\n",
    "}\n",
    "\n"
   ]
  },
  {
   "cell_type": "code",
   "execution_count": null,
   "id": "af72aed6",
   "metadata": {
    "scrolled": false
   },
   "outputs": [],
   "source": [
    "# combine all info into 1 df\n",
    "print('TODO make sure docker command is TOP when dictionary shows alimate for OVERALL')\n",
    "res = {'Command':[], 'Mean_Overall_Weighted_F1':[],'Std_overall_weighted_f1':[], 'Cohort': [], 'Platform': [], 'Algorithm_Method':[],'Features':[]}\n",
    "for cancer in best.keys():\n",
    "    for algor in best[cancer].keys():\n",
    "        \n",
    "        platform_cyles = [a for a in best[cancer][algor] if 'info' in a]\n",
    "        for pc in platform_cyles:\n",
    "            platform = pc.split('_')[1]\n",
    "            \n",
    "            # if there is model performance info:\n",
    "            if 'NO_MODEL' not in best[cancer][algor][platform]:\n",
    "                \n",
    "                # MULTI - special handling of names (ex. OVERALL means MULTI)\n",
    "                if platform + '_' + reverse_name[algor] in harmonize_MULTI:\n",
    "                    #print('Harmonizing MULTI -', algor, platform)\n",
    "\n",
    "                    res['Command'].append('bash RUN_model.sh {} {} {} DATA.tsv'.format(cancer, platform, reverse_name[algor]))\n",
    "\n",
    "                    mean_value = best[cancer][algor][pc]['Mean_overall_weighted_f1']\n",
    "                    res['Mean_Overall_Weighted_F1'].append(mean_value)\n",
    "\n",
    "                    sd_value = best[cancer][algor][pc]['Std_overall_weighted_f1']\n",
    "                    res['Std_overall_weighted_f1'].append(sd_value)\n",
    "\n",
    "                    res['Cohort'].append(cancer)   \n",
    "\n",
    "                    # Table will show col as MULTI - but command will show what was used in model (All, OVERALL, etc)\n",
    "                    res['Platform'].append('MULTI')\n",
    "\n",
    "                    res['Algorithm_Method'].append(reverse_name[algor])\n",
    "\n",
    "                    fts = get_MULTI_fts(ft_df, cancer, reverse_name[algor], platform)\n",
    "                    res['Features'].append(fts)            \n",
    "                \n",
    "                # SKIP any best of the best calculations for now\n",
    "                # meaning: AKLIMATE: TOP, subSCOPE: OVERALL, CF: OVERALL\n",
    "                elif  platform + '_' + reverse_name[algor] in  harmonize_BESTwithinAlgor:\n",
    "                    #print('Skipping best within algor -', algor, platform)\n",
    "                    break\n",
    "                    \n",
    "                \n",
    "                # standard just GEXP, MUTA, METH, CNVR, MIR\n",
    "                else:\n",
    "                    # TODO skipping for now until resolved with chris and christina\n",
    "                    if platform == 'METH' and algor == 'AKLIMATE' and cancer == 'BRCA':\n",
    "                        print('TODO handle for this, waiting to hear back from chris and christina on this fix, skipping for now', platform, algor, cancer)\n",
    "                        break\n",
    "                    elif platform == 'GEXP' and algor == 'AKLIMATE' and cancer == 'PAAD':\n",
    "                        print('TODO handle for this, waiting to hear back from chris and christina on this fix, skipping for now', platform, algor, cancer)\n",
    "                        break\n",
    "                    elif platform == 'CNVR' and algor == 'AKLIMATE' and cancer == 'SKCM':\n",
    "                        print('TODO handle for this, waiting to hear back from chris and christina on this fix, skipping for now', platform, algor, cancer)\n",
    "                        break\n",
    "#                     elif  algor == 'CF' and cancer == 'UVM':\n",
    "#                         print('TODO need to fix this cloudforest for all UVM')\n",
    "#                         break\n",
    "                    else:\n",
    "                        res['Command'].append('bash RUN_model.sh {} {} {} YOUR-DATA.tsv'.format(cancer, platform, reverse_name[algor]))\n",
    "\n",
    "                        mean_value = best[cancer][algor][pc]['Mean_overall_weighted_f1']\n",
    "                        res['Mean_Overall_Weighted_F1'].append(mean_value)\n",
    "\n",
    "                        sd_value = best[cancer][algor][pc]['Std_overall_weighted_f1']\n",
    "                        res['Std_overall_weighted_f1'].append(sd_value)\n",
    "\n",
    "                        res['Cohort'].append(cancer)\n",
    "\n",
    "                        res['Platform'].append(platform)\n",
    "\n",
    "                        res['Algorithm_Method'].append(reverse_name[algor])\n",
    "\n",
    "                        fts = info[reverse_name[algor]][cancer][platform]['fts']\n",
    "                        res['Features'].append(fts)\n",
    "                        \n",
    "summary = pd.DataFrame.from_dict(res)\n",
    "summary"
   ]
  },
  {
   "cell_type": "code",
   "execution_count": null,
   "id": "0710c6a7",
   "metadata": {},
   "outputs": [],
   "source": [
    "print(algor, cancer, platform)"
   ]
  },
  {
   "cell_type": "code",
   "execution_count": null,
   "id": "e3845f24",
   "metadata": {},
   "outputs": [],
   "source": [
    "### inspect issues: aklimate\n",
    "# 1. AKLIMATE BRCA METH\n",
    "# 2. AKLIMATE PAAD GEXP\n",
    "# 3. AKLIMATE SKCM CNVR\n",
    "\n",
    "# in christinas file?\n",
    "perf_df[(perf_df['cohort']==cancer)&(perf_df['feature_list_method']==algor)]\n",
    "# yes in christinas file\n",
    "\n",
    "# in docker source files?\n",
    "# no"
   ]
  },
  {
   "cell_type": "code",
   "execution_count": null,
   "id": "2401f45c",
   "metadata": {},
   "outputs": [],
   "source": [
    "### inspect issues: cloudforest\n",
    "# 1. CF UVM CNVR - odd that info only has OVERALL as key for cloudforest \n",
    "#    1B. will need to add to info all of UVM cloudforest for   \n",
    "#   - CNVR\n",
    "#   - GEXP\n",
    "#   - METH\n",
    "#   - All\n",
    "#   - MUTA\n",
    "#   - MIR\n",
    "#   - skip(OVERALL)\n",
    "# in christinas file?\n",
    "# perf_df[(perf_df['cohort']==cancer)&(perf_df['feature_list_method']==algor)]\n",
    "# yes\n",
    "\n",
    "# in docker data = cloudforest/data/models_cf/UVM/CNVR?\n",
    "#yes\n",
    "# all 5 single platforms plus All and OVERALL are found in option.yaml and are runaable\n",
    "import yaml\n",
    "import pandas as pd\n",
    "with open('../../../09_docker/gdan-tmp-models/tools/model_info.json', 'r') as file:\n",
    "    info = yaml.safe_load(file)\n"
   ]
  },
  {
   "cell_type": "code",
   "execution_count": null,
   "id": "71665e97",
   "metadata": {
    "scrolled": true
   },
   "outputs": [],
   "source": [
    "info['cloudforest']['BRCA']"
   ]
  },
  {
   "cell_type": "code",
   "execution_count": null,
   "id": "a0561e1a",
   "metadata": {},
   "outputs": [],
   "source": [
    "to_add = {}\n",
    "\n"
   ]
  },
  {
   "cell_type": "code",
   "execution_count": null,
   "id": "d7e135e8",
   "metadata": {},
   "outputs": [],
   "source": [
    "df =pd.read_csv('../../../09_docker/gdan-tmp-models/cloudforest/data/models_cf/UVM/All/CF_UVM_All_Top_100_UVM.fi', sep='\\t', index_col=0)\n",
    "fts = list(df.index)\n",
    "\n",
    "to_add['All']={'model': 'cloudforest',\n",
    "  'model_params': 'CF_UVM_All_Top_100_UVM',\n",
    "  'fts': fts}"
   ]
  },
  {
   "cell_type": "code",
   "execution_count": null,
   "id": "8bda6d45",
   "metadata": {
    "scrolled": true
   },
   "outputs": [],
   "source": [
    "to_add"
   ]
  },
  {
   "cell_type": "code",
   "execution_count": null,
   "id": "e54c8f50",
   "metadata": {},
   "outputs": [],
   "source": [
    "plat = 'CNVR'\n",
    "df =pd.read_csv('../../../09_docker/gdan-tmp-models/cloudforest/data/models_cf/UVM/{}/CF_UVM_{}_Top_100_UVM.fi'.format(plat, plat), sep='\\t', index_col=0)\n",
    "fts = list(df.index)\n",
    "\n",
    "to_add[plat]={'model': 'cloudforest',\n",
    "  'model_params': 'CF_UVM_CNVR_Top_100_UVM',\n",
    "  'fts': fts}"
   ]
  },
  {
   "cell_type": "code",
   "execution_count": null,
   "id": "a6a565d4",
   "metadata": {},
   "outputs": [],
   "source": [
    "plat = 'GEXP'\n",
    "df =pd.read_csv('../../../09_docker/gdan-tmp-models/cloudforest/data/models_cf/UVM/{}/CF_UVM_{}_Top_100_UVM.fi'.format(plat, plat), sep='\\t', index_col=0)\n",
    "fts = list(df.index)\n",
    "\n",
    "to_add[plat]={'model': 'cloudforest',\n",
    "  'model_params': 'CF_UVM_GEXP_Top_100_UVM',\n",
    "  'fts': fts}"
   ]
  },
  {
   "cell_type": "code",
   "execution_count": null,
   "id": "46a769bb",
   "metadata": {},
   "outputs": [],
   "source": [
    "plat = 'METH'\n",
    "df =pd.read_csv('../../../09_docker/gdan-tmp-models/cloudforest/data/models_cf/UVM/{}/CF_UVM_{}_Top_100_UVM.fi'.format(plat, plat), sep='\\t', index_col=0)\n",
    "fts = list(df.index)\n",
    "\n",
    "to_add[plat]={'model': 'cloudforest',\n",
    "  'model_params': 'CF_UVM_METH_Top_100_UVM',\n",
    "  'fts': fts}"
   ]
  },
  {
   "cell_type": "code",
   "execution_count": null,
   "id": "9bcf1b7a",
   "metadata": {},
   "outputs": [],
   "source": [
    "plat = 'MIR'\n",
    "df =pd.read_csv('../../../09_docker/gdan-tmp-models/cloudforest/data/models_cf/UVM/{}/CF_UVM_{}_Top_100_UVM.fi'.format(plat, plat), sep='\\t', index_col=0)\n",
    "fts = list(df.index)\n",
    "\n",
    "to_add[plat]={'model': 'cloudforest',\n",
    "  'model_params': 'CF_UVM_MIR_Top_100_UVM',\n",
    "  'fts': fts}"
   ]
  },
  {
   "cell_type": "code",
   "execution_count": null,
   "id": "f2f9a68c",
   "metadata": {},
   "outputs": [],
   "source": [
    "plat = 'MUTA'\n",
    "df =pd.read_csv('../../../09_docker/gdan-tmp-models/cloudforest/data/models_cf/UVM/{}/CF_UVM_{}_Top_100_UVM.fi'.format(plat, plat), sep='\\t', index_col=0)\n",
    "fts = list(df.index)\n",
    "\n",
    "to_add[plat]={'model': 'cloudforest',\n",
    "  'model_params': 'CF_UVM_MUTA_Top_100_UVM',\n",
    "  'fts': fts}"
   ]
  },
  {
   "cell_type": "code",
   "execution_count": null,
   "id": "458961de",
   "metadata": {},
   "outputs": [],
   "source": [
    "plat = 'OVERALL'\n",
    "df =pd.read_csv('../../../09_docker/gdan-tmp-models/cloudforest/data/models_cf/UVM/OVERALL/CF_UVM_GEXP_Top_100_UVM.fi', sep='\\t', index_col=0)\n",
    "fts = list(df.index)\n",
    "\n",
    "to_add[plat]={'model': 'cloudforest',\n",
    "  'model_params': 'CF_UVM_GEXP_Top_100_UVM',\n",
    "  'fts': fts}"
   ]
  },
  {
   "cell_type": "code",
   "execution_count": null,
   "id": "1242f4f5",
   "metadata": {
    "scrolled": true
   },
   "outputs": [],
   "source": [
    "import yaml\n",
    "import pandas as pd\n",
    "with open('../../../09_docker/gdan-tmp-models/tools/model_info.v2.json', 'r') as file:\n",
    "    info = yaml.safe_load(file)\n"
   ]
  },
  {
   "cell_type": "code",
   "execution_count": null,
   "id": "547c6919",
   "metadata": {
    "scrolled": true
   },
   "outputs": [],
   "source": [
    "info['cloudforest']['UVM']= to_add"
   ]
  },
  {
   "cell_type": "code",
   "execution_count": null,
   "id": "b993d622",
   "metadata": {},
   "outputs": [],
   "source": [
    "info['cloudforest']['UVM'].keys()"
   ]
  },
  {
   "cell_type": "code",
   "execution_count": null,
   "id": "e86cb634",
   "metadata": {},
   "outputs": [],
   "source": [
    "import json\n",
    "with open(\"../../../09_docker/gdan-tmp-models/tools/model_info.v2.json\", \"w\") as outfile: \n",
    "    json.dump(info, outfile)"
   ]
  },
  {
   "cell_type": "code",
   "execution_count": null,
   "id": "afce471e",
   "metadata": {},
   "outputs": [],
   "source": [
    "info['skgrid']['UVM']"
   ]
  },
  {
   "cell_type": "code",
   "execution_count": null,
   "id": "dae8ce84",
   "metadata": {},
   "outputs": [],
   "source": []
  }
 ],
 "metadata": {
  "kernelspec": {
   "display_name": "Python 3 (ipykernel)",
   "language": "python",
   "name": "python3"
  },
  "language_info": {
   "codemirror_mode": {
    "name": "ipython",
    "version": 3
   },
   "file_extension": ".py",
   "mimetype": "text/x-python",
   "name": "python",
   "nbconvert_exporter": "python",
   "pygments_lexer": "ipython3",
   "version": "3.9.15"
  }
 },
 "nbformat": 4,
 "nbformat_minor": 5
}
